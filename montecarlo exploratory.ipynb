{
 "cells": [
  {
   "cell_type": "code",
   "execution_count": 1,
   "metadata": {},
   "outputs": [],
   "source": [
    "import numpy as np\n",
    "import matplotlib.pyplot as plt\n",
    "import pandas as pd\n",
    "import yfinance\n",
    "import pylab\n",
    "import random\n",
    "from monte_funcs import *\n",
    "from IPython.display import clear_output\n",
    "import datetime\n",
    "import hurst"
   ]
  },
  {
   "cell_type": "code",
   "execution_count": null,
   "metadata": {},
   "outputs": [],
   "source": [
    "vx = pd.read_csv('vixts.csv')\n",
    "rates = np.random.lognormal(0,0.09,1000) - 1"
   ]
  },
  {
   "cell_type": "code",
   "execution_count": null,
   "metadata": {},
   "outputs": [],
   "source": [
    "plt.hist(rates)"
   ]
  },
  {
   "cell_type": "code",
   "execution_count": null,
   "metadata": {
    "scrolled": true
   },
   "outputs": [],
   "source": [
    "[plt.plot(pnl_walk(100, 25, rates)) for i in range(10000)]"
   ]
  },
  {
   "cell_type": "code",
   "execution_count": null,
   "metadata": {},
   "outputs": [],
   "source": [
    "pnl = pd.DataFrame([100,105,102,300,201,2011,302,2])\n",
    "pnl.cummax()"
   ]
  },
  {
   "cell_type": "code",
   "execution_count": null,
   "metadata": {
    "scrolled": true
   },
   "outputs": [],
   "source": [
    "#(strat, starting_amt, max_draw, wait_after_stop, tkrs, rolling_lookback, n_paths, n_days_project):"
   ]
  },
  {
   "cell_type": "code",
   "execution_count": null,
   "metadata": {},
   "outputs": [],
   "source": [
    "def test_hurst(ticker):\n",
    "    dfs = sim_and_test('LongShort', 100, 0.10, 10, [f'{ticker}'], 2, 2500, 3)\n",
    "    dfs[f'{ticker}'][f'{ticker}'] = yfinance.download(f'{ticker}')['Close']\n",
    "    dfs[f'{ticker}']['hurst'] = dfs[f'{ticker}'][f'{ticker}'].rolling(100).apply(hurst_exp)\n",
    "    dfs[f'{ticker}'] = dfs[f'{ticker}'].dropna(axis=0)\n",
    "    dfs[f'{ticker}']['hurst_quantile'] = pd.qcut(dfs[f'{ticker}']['hurst'], q = 4)\n",
    "    return dfs[f'{ticker}'].groupby('hurst_quantile').mean()\n",
    "    "
   ]
  },
  {
   "cell_type": "code",
   "execution_count": 2,
   "metadata": {},
   "outputs": [
    {
     "name": "stdout",
     "output_type": "stream",
     "text": [
      "[*********************100%***********************]  1 of 1 completed\n",
      "Strat Sharpe (20_1000_2_QQQ): 1.741162867809563, Buy and Hold Sharpe (QQQ): 1.2795236077549272\n",
      "Return Strat(%): 777.2846789586174, Return Buy and Hold(%): 549.3566241197171\n",
      "22.25\n",
      "Anualized Return Strat(%): 0.10252472866344364, Anualized Return Buy and Hold(%): 0.08771746597720398\n",
      "Anualized Vol Strat(%): 0.044963169331665886, Anualized Vol Buy and Hold(%): 0.03683916489759209\n",
      "\n",
      "\n"
     ]
    },
    {
     "data": {
      "text/plain": [
       "{'QQQ':             20_1000_2_QQQ    Long_QQQ  Strat_Ret\n",
       " Date                                            \n",
       " 1999-03-10     100.000000  100.000000        NaN\n",
       " 1999-03-11     100.619718  100.619718   0.619718\n",
       " 1999-03-12      99.943662   99.943662  -0.676056\n",
       " 1999-03-15      98.591549   98.591549  -1.352113\n",
       " 1999-03-16      95.211268   95.211268  -3.380282\n",
       " ...                   ...         ...        ...\n",
       " 2021-06-01     864.619444  639.981954   3.117586\n",
       " 2021-06-02     863.255505  638.972381  -1.363939\n",
       " 2021-06-03     863.596527  639.224802   0.341022\n",
       " 2021-06-04     873.509503  646.562280   9.912977\n",
       " 2021-06-07     877.284679  649.356624   3.775176\n",
       " \n",
       " [5598 rows x 3 columns]}"
      ]
     },
     "execution_count": 2,
     "metadata": {},
     "output_type": "execute_result"
    },
    {
     "data": {
      "image/png": "[encoded data removed]",
      "text/plain": [
       "<Figure size 432x288 with 2 Axes>"
      ]
     },
     "metadata": {
      "needs_background": "light"
     },
     "output_type": "display_data"
    }
   ],
   "source": [
    "sim_and_test('Long', 100, .25, 1, ['QQQ'], 20,1000, 2)"
   ]
  },
  {
   "cell_type": "code",
   "execution_count": null,
   "metadata": {},
   "outputs": [],
   "source": []
  },
  {
   "cell_type": "code",
   "execution_count": null,
   "metadata": {},
   "outputs": [],
   "source": [
    "#vx['Date'] = [datetime.datetime.strptime(str(i) ,'%Y%m%d') for i in vx['Date']]\n",
    "pnl_with_vix = spy_df.merge(vx[vx['Date'].between(str(df['SPY'].index[0]), str(df['SPY'].index[-1]))])"
   ]
  },
  {
   "cell_type": "code",
   "execution_count": null,
   "metadata": {},
   "outputs": [],
   "source": [
    "plt.hist(pnl_with_vix['Strat_Ret'], bins = 35)"
   ]
  },
  {
   "cell_type": "code",
   "execution_count": null,
   "metadata": {},
   "outputs": [],
   "source": [
    "pnl_with_vix['pnl_quantile'] = pd.qcut(pnl_with_vix['Strat_Ret'], q = 2)\n",
    "grouped = pnl_with_vix.groupby('pnl_quantile').mean().iloc[:,3:].transpose()\n",
    "for col in grouped:\n",
    "    plt.plot(grouped[col], label = col)\n",
    "plt.legend()"
   ]
  },
  {
   "cell_type": "code",
   "execution_count": null,
   "metadata": {},
   "outputs": [],
   "source": [
    "pnl_with_vix['vix_1_quantile'] = pd.qcut(pnl_with_vix['VIX_1^2'], q = 4)\n",
    "grouped = pd.DataFrame(pnl_with_vix.groupby('vix_1_quantile').mean().iloc[:,2].transpose())\n",
    "grouped = grouped.reset_index()\n",
    "\n",
    "plt.bar([str(i) for i in grouped['vix_1_quantile']],grouped['Strat_Ret'], label = 'Strat Ret')\n",
    "plt.legend()\n",
    "grouped"
   ]
  },
  {
   "cell_type": "code",
   "execution_count": null,
   "metadata": {},
   "outputs": [],
   "source": [
    "pnl_with_vix['vix_2_quantile'] = pd.qcut(pnl_with_vix['VIX_2^2'], q = 4)\n",
    "grouped = pd.DataFrame(pnl_with_vix.groupby('vix_2_quantile').mean().iloc[:,2].transpose())\n",
    "grouped = grouped.reset_index()\n",
    "\n",
    "plt.bar([str(i) for i in grouped['vix_2_quantile']],grouped['Strat_Ret'], label = 'Strat Ret')\n",
    "plt.legend()\n",
    "grouped"
   ]
  },
  {
   "cell_type": "code",
   "execution_count": null,
   "metadata": {},
   "outputs": [],
   "source": [
    "pnl_with_vix['vix_3_quantile'] = pd.qcut(pnl_with_vix['VIX_3^2'], q = 4)\n",
    "grouped = pd.DataFrame(pnl_with_vix.groupby('vix_3_quantile').mean().iloc[:,2].transpose())\n",
    "grouped = grouped.reset_index()\n",
    "\n",
    "plt.bar([str(i) for i in grouped['vix_3_quantile']],grouped['Strat_Ret'], label = 'Strat Ret')\n",
    "plt.legend()\n",
    "grouped"
   ]
  },
  {
   "cell_type": "code",
   "execution_count": null,
   "metadata": {},
   "outputs": [],
   "source": [
    "pnl_with_vix['vix_6_quantile'] = pd.qcut(pnl_with_vix['VIX_6^2'], q = 4)\n",
    "grouped = pd.DataFrame(pnl_with_vix.groupby('vix_6_quantile').mean().iloc[:,2].transpose())\n",
    "grouped = grouped.reset_index()\n",
    "\n",
    "plt.bar([str(i) for i in grouped['vix_6_quantile']],grouped['Strat_Ret'], label = 'Strat Ret')\n",
    "plt.legend()\n",
    "grouped"
   ]
  },
  {
   "cell_type": "code",
   "execution_count": null,
   "metadata": {},
   "outputs": [],
   "source": [
    "pnl_with_vix['vix_9_quantile'] = pd.qcut(pnl_with_vix['VIX_9^2'], q = 4)\n",
    "grouped = pd.DataFrame(pnl_with_vix.groupby('vix_9_quantile').mean().iloc[:,2].transpose())\n",
    "grouped = grouped.reset_index()\n",
    "\n",
    "plt.bar([str(i) for i in grouped['vix_9_quantile']],grouped['Strat_Ret'], label = 'Strat Ret')\n",
    "plt.legend()\n",
    "grouped"
   ]
  },
  {
   "cell_type": "code",
   "execution_count": null,
   "metadata": {},
   "outputs": [],
   "source": [
    "pnl_with_vix['vix_12_quantile'] = pd.qcut(pnl_with_vix['VIX_12^2'], q = 4)\n",
    "grouped = pd.DataFrame(pnl_with_vix.groupby('vix_12_quantile').mean().iloc[:,2].transpose())\n",
    "grouped = grouped.reset_index()\n",
    "\n",
    "plt.bar([str(i) for i in grouped['vix_12_quantile']],grouped['Strat_Ret'], label = 'Strat Ret')\n",
    "plt.legend()\n",
    "grouped"
   ]
  },
  {
   "cell_type": "code",
   "execution_count": null,
   "metadata": {
    "scrolled": true
   },
   "outputs": [],
   "source": [
    "pairs = [[0.0204, 0.0342], [0.0227, 0.0335], [0.0245, 0.0385], [0.0283, 0.0418], \n",
    "[0.0307, 0.0431], [0.0142, 0.0322]] \n",
    "plt.plot([pair[0] for pair in pairs])\n",
    "plt.plot([pair[1] for pair in pairs]) "
   ]
  },
  {
   "cell_type": "code",
   "execution_count": null,
   "metadata": {},
   "outputs": [],
   "source": [
    "pnl_with_vix"
   ]
  },
  {
   "cell_type": "code",
   "execution_count": null,
   "metadata": {},
   "outputs": [],
   "source": [
    "plt.plot(pnls['5_50_2_AMZN'], label = 'Strat')\n",
    "plt.plot(pnls['Long_AMZN'], label = 'Long AMZN')\n",
    "plt.legend()"
   ]
  },
  {
   "cell_type": "code",
   "execution_count": null,
   "metadata": {},
   "outputs": [],
   "source": [
    "yfinance.download('QQQ')"
   ]
  },
  {
   "cell_type": "code",
   "execution_count": null,
   "metadata": {
    "scrolled": true
   },
   "outputs": [],
   "source": [
    "qqq_df = pd.DataFrame(pnls)\n",
    "qqq_df['Strat_Ret'] = qqq_df['5_50_5_QQQ'] - qqq_df['5_50_5_QQQ'].shift(1)"
   ]
  },
  {
   "cell_type": "code",
   "execution_count": null,
   "metadata": {},
   "outputs": [],
   "source": [
    "def sharpe(ret, sd):\n",
    "    return (ret)/sd"
   ]
  },
  {
   "cell_type": "code",
   "execution_count": null,
   "metadata": {},
   "outputs": [],
   "source": [
    "total_ret = (qqq_df.iloc[-1]['5_50_5_QQQ'] - qqq_df.iloc[0]['5_50_5_QQQ'])/qqq_df.iloc[0]['5_50_5_QQQ']\n",
    "qqq_df['pct_return'] = qqq_df.pct_change()['5_50_5_QQQ']"
   ]
  },
  {
   "cell_type": "code",
   "execution_count": null,
   "metadata": {},
   "outputs": [],
   "source": [
    "np.mean(qqq_df['pct_return'])/np.std(qqq_df['pct_return'])"
   ]
  },
  {
   "cell_type": "code",
   "execution_count": null,
   "metadata": {},
   "outputs": [],
   "source": [
    "np.mean(qqq_df['5_50_5_QQQ'])/np.std(qqq_df['5_50_5_QQQ'])"
   ]
  },
  {
   "cell_type": "code",
   "execution_count": null,
   "metadata": {},
   "outputs": [],
   "source": [
    "np.mean(qqq_df['Long_QQQ'])/np.std(qqq_df['Long_QQQ'])"
   ]
  },
  {
   "cell_type": "code",
   "execution_count": null,
   "metadata": {},
   "outputs": [],
   "source": [
    "qqq_df"
   ]
  },
  {
   "cell_type": "code",
   "execution_count": null,
   "metadata": {},
   "outputs": [],
   "source": [
    "for key in pnls.keys():\n",
    "    plt.plot(pnls[key], label = key)\n",
    "    print(f'Sharpe({key}):{np.mean(pd.DataFrame(pnls[key])/np.std(pd.DataFrame(pnls[key])))}')\n",
    "plt.legend()"
   ]
  },
  {
   "cell_type": "code",
   "execution_count": null,
   "metadata": {},
   "outputs": [],
   "source": [
    "plt.plot(pnls['4_4'])"
   ]
  },
  {
   "cell_type": "code",
   "execution_count": null,
   "metadata": {},
   "outputs": [],
   "source": [
    "pnl = [100000]\n",
    "errors = []\n",
    "pnl_spy = [100000]\n",
    "\n",
    "for i in range(len(dta)-1):\n",
    "    pnl_spy.append(pnl_spy[-1] * (1+dta.iloc[i+1]['Pct_Change']))\n",
    "    if dta.iloc[i]['Close'] < dta.iloc[i]['E']:\n",
    "        pnl.append(pnl[-1]*(1+dta.iloc[i+1]['Pct_Change']))\n",
    "    else:\n",
    "        pnl.append(pnl[-1])\n",
    "        #pnl.append(pnl[i]*(1+(-1*dta.iloc[i]['Pct_Change'])))\n",
    "    errors.append(dta.iloc[i]['Actual'] - dta.iloc[i]['E'])\n",
    "plt.plot(pnl)\n",
    "plt.plot(pnl_spy)"
   ]
  },
  {
   "cell_type": "code",
   "execution_count": null,
   "metadata": {},
   "outputs": [],
   "source": [
    "print(np.mean(pnl)/np.std(pnl), np.mean(pnl_spy)/np.std(pnl_spy))"
   ]
  },
  {
   "cell_type": "code",
   "execution_count": null,
   "metadata": {},
   "outputs": [],
   "source": [
    "df = pd.DataFrame()\n",
    "df['PNL']= pnl\n",
    "df['PNL_Pct_Change'] = df.pct_change()\n",
    "df['PNL_Change'] = df['PNL'] - df['PNL'].shift(1)\n",
    "df\n",
    "#plt.hist(df['PNL_Change'], bins = 1000)\n",
    "#plt.hist(df['PNL'], bins = 1000)\n",
    "df\n",
    "#np.mean(df['PNL'])/np.std(df['PNL'])"
   ]
  },
  {
   "cell_type": "code",
   "execution_count": null,
   "metadata": {},
   "outputs": [],
   "source": [
    "plt.plot(dta['Close'])\n"
   ]
  },
  {
   "cell_type": "code",
   "execution_count": null,
   "metadata": {},
   "outputs": [],
   "source": [
    "#simulated sp500\n",
    "def pnl_walk(a, n, rates):\n",
    "    # defining the number of steps\n",
    "    \n",
    "    # n must = lenrates\n",
    "\n",
    "    #creating two array for containing x and y coordinate\n",
    "    #of size equals to the number of size and filled up with 0's\n",
    "    x = numpy.zeros(n)\n",
    "    x[0] = a\n",
    "\n",
    "    # filling the coordinates with random variables\n",
    "    for i in range(1, n):\n",
    "        rate = np.random.choice(rates)\n",
    "        x[i] = x[i-1]*(1+rate)\n",
    "    \n",
    "    \n",
    "    return x\n"
   ]
  },
  {
   "cell_type": "code",
   "execution_count": null,
   "metadata": {},
   "outputs": [],
   "source": [
    "def simulate_rndm_pnl(n_sims, starting_val, steps, generated):\n",
    "    ends = []\n",
    "    sers = []\n",
    "    for i in range(n_sims):\n",
    "        ser = pnl_walk(starting_val, steps, generated)\n",
    "        sers.append(ser)\n",
    "        ends.append(ser[-1])\n",
    "        #plt.plot(ser)\n",
    "    \n",
    "    return sers, ends\n",
    "    #plt.ticklabel_format(style = 'plain')\n",
    "    #print(f'Mean Ending Value = {np.mean(ends)}, Sd = {np.std(ends)/n_sims}')"
   ]
  },
  {
   "cell_type": "code",
   "execution_count": null,
   "metadata": {},
   "outputs": [],
   "source": [
    "import pandas as pd\n",
    "close_copy = close.copy()\n",
    "cur = close_copy.iloc[-1]['log_return']\n",
    "rolling_sd = close_copy.iloc[-1]['rolling_sd']\n",
    "rolling_mean = close_copy.iloc[-1]['rolling_mean']\n",
    "generated = np.random.normal(rolling_mean,rolling_sd,1000)\n",
    "paths = simulate_rndm_pnl(1000, cur, 25,generated)\n",
    "df = pd.DataFrame(paths).transpose()"
   ]
  },
  {
   "cell_type": "code",
   "execution_count": null,
   "metadata": {
    "scrolled": true
   },
   "outputs": [],
   "source": [
    "for col in df:\n",
    "    plt.plot(df[col])"
   ]
  },
  {
   "cell_type": "code",
   "execution_count": null,
   "metadata": {},
   "outputs": [],
   "source": []
  },
  {
   "cell_type": "code",
   "execution_count": null,
   "metadata": {},
   "outputs": [],
   "source": [
    "data = "
   ]
  }
 ],
 "metadata": {
  "kernelspec": {
   "display_name": "Python 3",
   "language": "python",
   "name": "python3"
  },
  "language_info": {
   "codemirror_mode": {
    "name": "ipython",
    "version": 3
   },
   "file_extension": ".py",
   "mimetype": "text/x-python",
   "name": "python",
   "nbconvert_exporter": "python",
   "pygments_lexer": "ipython3",
   "version": "3.8.5"
  }
 },
 "nbformat": 4,
 "nbformat_minor": 4
}

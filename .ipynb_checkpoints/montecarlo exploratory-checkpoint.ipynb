{
 "cells": [
  {
   "cell_type": "code",
   "execution_count": 2,
   "metadata": {},
   "outputs": [],
   "source": [
    "import numpy as np\n",
    "import matplotlib.pyplot as plt\n",
    "import pandas as pd\n",
    "import yfinance\n",
    "import pylab\n",
    "import random\n",
    "from monte_funcs import *\n",
    "from IPython.display import clear_output\n",
    "import datetime\n",
    "import hurst"
   ]
  },
  {
   "cell_type": "code",
   "execution_count": 3,
   "metadata": {},
   "outputs": [],
   "source": [
    "vx = pd.read_csv('vixts.csv')\n",
    "rates = np.random.lognormal(0,0.09,1000) - 1"
   ]
  },
  {
   "cell_type": "code",
   "execution_count": null,
   "metadata": {},
   "outputs": [],
   "source": [
    "plt.hist(rates)"
   ]
  },
  {
   "cell_type": "code",
   "execution_count": null,
   "metadata": {
    "scrolled": true
   },
   "outputs": [],
   "source": [
    "[plt.plot(pnl_walk(100, 25, rates)) for i in range(10000)]"
   ]
  },
  {
   "cell_type": "code",
   "execution_count": null,
   "metadata": {},
   "outputs": [],
   "source": [
    "pnl = pd.DataFrame([100,105,102,300,201,2011,302,2])\n",
    "pnl.cummax()"
   ]
  },
  {
   "cell_type": "code",
   "execution_count": null,
   "metadata": {
    "scrolled": true
   },
   "outputs": [],
   "source": [
    "#(strat, starting_amt, max_draw, wait_after_stop, tkrs, rolling_lookback, n_paths, n_days_project):"
   ]
  },
  {
   "cell_type": "code",
   "execution_count": null,
   "metadata": {},
   "outputs": [],
   "source": [
    "def test_hurst(ticker):\n",
    "    dfs = sim_and_test('LongShort', 100, 0.10, 10, [f'{ticker}'], 2, 2500, 3)\n",
    "    dfs[f'{ticker}'][f'{ticker}'] = yfinance.download(f'{ticker}')['Close']\n",
    "    dfs[f'{ticker}']['hurst'] = dfs[f'{ticker}'][f'{ticker}'].rolling(100).apply(hurst_exp)\n",
    "    dfs[f'{ticker}'] = dfs[f'{ticker}'].dropna(axis=0)\n",
    "    dfs[f'{ticker}']['hurst_quantile'] = pd.qcut(dfs[f'{ticker}']['hurst'], q = 4)\n",
    "    return dfs[f'{ticker}'].groupby('hurst_quantile').mean()\n",
    "    "
   ]
  },
  {
   "cell_type": "code",
   "execution_count": null,
   "metadata": {},
   "outputs": [],
   "source": [
    "dfs = sim_and_test('LongShort', .05,  100, .1, 1, ['FB'], 3,1000, 2)"
   ]
  },
  {
   "cell_type": "code",
   "execution_count": 26,
   "metadata": {},
   "outputs": [
    {
     "data": {
      "text/plain": [
       "3_1000_2_COIN    0.242422\n",
       "Long_COIN        0.224202\n",
       "Strat_Ret        0.439492\n",
       "dtype: float64"
      ]
     },
     "execution_count": 26,
     "metadata": {},
     "output_type": "execute_result"
    }
   ],
   "source": [
    "dfs['COIN'] = dfs['COIN'].pct_change().replace([np.inf, -np.inf], np.nan).dropna(axis = 0)/100\n",
    "dfs['COIN'].mean()"
   ]
  },
  {
   "cell_type": "code",
   "execution_count": 7,
   "metadata": {},
   "outputs": [
    {
     "data": {
      "text/plain": [
       "107.4421240446533"
      ]
     },
     "execution_count": 7,
     "metadata": {},
     "output_type": "execute_result"
    }
   ],
   "source": [
    "dfs['COIN']['3_1000_2_COIN'][-1] "
   ]
  },
  {
   "cell_type": "code",
   "execution_count": null,
   "metadata": {},
   "outputs": [],
   "source": [
    "import yfinance\n",
    "yfinance.download(\"qqq\")"
   ]
  },
  {
   "cell_type": "code",
   "execution_count": 85,
   "metadata": {},
   "outputs": [
    {
     "data": {
      "text/html": [
       "<div>\n",
       "<style scoped>\n",
       "    .dataframe tbody tr th:only-of-type {\n",
       "        vertical-align: middle;\n",
       "    }\n",
       "\n",
       "    .dataframe tbody tr th {\n",
       "        vertical-align: top;\n",
       "    }\n",
       "\n",
       "    .dataframe thead th {\n",
       "        text-align: right;\n",
       "    }\n",
       "</style>\n",
       "<table border=\"1\" class=\"dataframe\">\n",
       "  <thead>\n",
       "    <tr style=\"text-align: right;\">\n",
       "      <th></th>\n",
       "      <th>index</th>\n",
       "      <th>20_1000_2_MNQ=F</th>\n",
       "      <th>Long_MNQ=F</th>\n",
       "      <th>Strat_Ret</th>\n",
       "      <th>dix</th>\n",
       "      <th>gex</th>\n",
       "    </tr>\n",
       "    <tr>\n",
       "      <th>gex_quantile</th>\n",
       "      <th></th>\n",
       "      <th></th>\n",
       "      <th></th>\n",
       "      <th></th>\n",
       "      <th></th>\n",
       "      <th></th>\n",
       "    </tr>\n",
       "  </thead>\n",
       "  <tbody>\n",
       "    <tr>\n",
       "      <th>(-1220488012.9589999, 786423702.09]</th>\n",
       "      <td>170.694656</td>\n",
       "      <td>123.615034</td>\n",
       "      <td>129.880870</td>\n",
       "      <td>0.278777</td>\n",
       "      <td>0.439411</td>\n",
       "      <td>1.517765e+08</td>\n",
       "    </tr>\n",
       "    <tr>\n",
       "      <th>(786423702.09, 1462342360.705]</th>\n",
       "      <td>275.307692</td>\n",
       "      <td>144.366748</td>\n",
       "      <td>149.767500</td>\n",
       "      <td>0.240515</td>\n",
       "      <td>0.421620</td>\n",
       "      <td>1.139907e+09</td>\n",
       "    </tr>\n",
       "    <tr>\n",
       "      <th>(1462342360.705, 2120779337.025]</th>\n",
       "      <td>288.538462</td>\n",
       "      <td>146.317952</td>\n",
       "      <td>150.596056</td>\n",
       "      <td>0.037731</td>\n",
       "      <td>0.415769</td>\n",
       "      <td>1.800823e+09</td>\n",
       "    </tr>\n",
       "    <tr>\n",
       "      <th>(2120779337.025, 8992652051.085]</th>\n",
       "      <td>310.153846</td>\n",
       "      <td>147.660721</td>\n",
       "      <td>149.912405</td>\n",
       "      <td>0.156371</td>\n",
       "      <td>0.420270</td>\n",
       "      <td>2.785534e+09</td>\n",
       "    </tr>\n",
       "  </tbody>\n",
       "</table>\n",
       "</div>"
      ],
      "text/plain": [
       "                                          index  20_1000_2_MNQ=F  Long_MNQ=F  \\\n",
       "gex_quantile                                                                   \n",
       "(-1220488012.9589999, 786423702.09]  170.694656       123.615034  129.880870   \n",
       "(786423702.09, 1462342360.705]       275.307692       144.366748  149.767500   \n",
       "(1462342360.705, 2120779337.025]     288.538462       146.317952  150.596056   \n",
       "(2120779337.025, 8992652051.085]     310.153846       147.660721  149.912405   \n",
       "\n",
       "                                     Strat_Ret       dix           gex  \n",
       "gex_quantile                                                            \n",
       "(-1220488012.9589999, 786423702.09]   0.278777  0.439411  1.517765e+08  \n",
       "(786423702.09, 1462342360.705]        0.240515  0.421620  1.139907e+09  \n",
       "(1462342360.705, 2120779337.025]      0.037731  0.415769  1.800823e+09  \n",
       "(2120779337.025, 8992652051.085]      0.156371  0.420270  2.785534e+09  "
      ]
     },
     "execution_count": 85,
     "metadata": {},
     "output_type": "execute_result"
    }
   ],
   "source": [
    "spy = dfs['MNQ=F'].reset_index().dropna(axis=0)\n",
    "spy_comb = spy[spy['Date'].between('2011-05-02','2021-07-08')].reset_index()\n",
    "spy_comb['dix'] = gex['dix']\n",
    "spy_comb['gex'] = gex['gex']\n",
    "spy_comb\n",
    "spy_comb['gex_quantile'] = pd.qcut(spy_comb['gex'], q = 4)\n",
    "spy_comb['dix_quantile'] = pd.qcut(spy_comb['dix'], q = 4)\n",
    "spy_comb.groupby('gex_quantile').mean()\n",
    "\n",
    "#spy.join(gex,on='Date')"
   ]
  },
  {
   "cell_type": "code",
   "execution_count": null,
   "metadata": {},
   "outputs": [],
   "source": []
  },
  {
   "cell_type": "code",
   "execution_count": 86,
   "metadata": {},
   "outputs": [
    {
     "data": {
      "text/html": [
       "<div>\n",
       "<style scoped>\n",
       "    .dataframe tbody tr th:only-of-type {\n",
       "        vertical-align: middle;\n",
       "    }\n",
       "\n",
       "    .dataframe tbody tr th {\n",
       "        vertical-align: top;\n",
       "    }\n",
       "\n",
       "    .dataframe thead th {\n",
       "        text-align: right;\n",
       "    }\n",
       "</style>\n",
       "<table border=\"1\" class=\"dataframe\">\n",
       "  <thead>\n",
       "    <tr style=\"text-align: right;\">\n",
       "      <th></th>\n",
       "      <th>index</th>\n",
       "      <th>20_1000_2_MNQ=F</th>\n",
       "      <th>Long_MNQ=F</th>\n",
       "      <th>Strat_Ret</th>\n",
       "      <th>dix</th>\n",
       "      <th>gex</th>\n",
       "    </tr>\n",
       "    <tr>\n",
       "      <th>dix_quantile</th>\n",
       "      <th></th>\n",
       "      <th></th>\n",
       "      <th></th>\n",
       "      <th></th>\n",
       "      <th></th>\n",
       "      <th></th>\n",
       "    </tr>\n",
       "  </thead>\n",
       "  <tbody>\n",
       "    <tr>\n",
       "      <th>(0.336, 0.402]</th>\n",
       "      <td>358.770992</td>\n",
       "      <td>163.876980</td>\n",
       "      <td>168.483318</td>\n",
       "      <td>0.180734</td>\n",
       "      <td>0.386808</td>\n",
       "      <td>1.668504e+09</td>\n",
       "    </tr>\n",
       "    <tr>\n",
       "      <th>(0.402, 0.424]</th>\n",
       "      <td>295.092308</td>\n",
       "      <td>148.022264</td>\n",
       "      <td>152.545878</td>\n",
       "      <td>0.151603</td>\n",
       "      <td>0.413347</td>\n",
       "      <td>1.603946e+09</td>\n",
       "    </tr>\n",
       "    <tr>\n",
       "      <th>(0.424, 0.445]</th>\n",
       "      <td>217.746154</td>\n",
       "      <td>130.988530</td>\n",
       "      <td>133.601234</td>\n",
       "      <td>0.046972</td>\n",
       "      <td>0.434382</td>\n",
       "      <td>1.615343e+09</td>\n",
       "    </tr>\n",
       "    <tr>\n",
       "      <th>(0.445, 0.503]</th>\n",
       "      <td>171.638462</td>\n",
       "      <td>118.762974</td>\n",
       "      <td>125.229459</td>\n",
       "      <td>0.334838</td>\n",
       "      <td>0.462937</td>\n",
       "      <td>9.785802e+08</td>\n",
       "    </tr>\n",
       "  </tbody>\n",
       "</table>\n",
       "</div>"
      ],
      "text/plain": [
       "                     index  20_1000_2_MNQ=F  Long_MNQ=F  Strat_Ret       dix  \\\n",
       "dix_quantile                                                                   \n",
       "(0.336, 0.402]  358.770992       163.876980  168.483318   0.180734  0.386808   \n",
       "(0.402, 0.424]  295.092308       148.022264  152.545878   0.151603  0.413347   \n",
       "(0.424, 0.445]  217.746154       130.988530  133.601234   0.046972  0.434382   \n",
       "(0.445, 0.503]  171.638462       118.762974  125.229459   0.334838  0.462937   \n",
       "\n",
       "                         gex  \n",
       "dix_quantile                  \n",
       "(0.336, 0.402]  1.668504e+09  \n",
       "(0.402, 0.424]  1.603946e+09  \n",
       "(0.424, 0.445]  1.615343e+09  \n",
       "(0.445, 0.503]  9.785802e+08  "
      ]
     },
     "execution_count": 86,
     "metadata": {},
     "output_type": "execute_result"
    }
   ],
   "source": [
    "spy_comb.groupby('dix_quantile').mean()"
   ]
  },
  {
   "cell_type": "code",
   "execution_count": 52,
   "metadata": {},
   "outputs": [],
   "source": [
    "#works best on low gex and high dix\n",
    "spy_comb['gex_quantile'] = [str(i) for i in spy_comb['gex_quantile']]\n",
    "spy_comb['dix_quantile'] = [str(i) for i in spy_comb['dix_quantile']]"
   ]
  },
  {
   "cell_type": "code",
   "execution_count": 67,
   "metadata": {},
   "outputs": [
    {
     "name": "stderr",
     "output_type": "stream",
     "text": [
      "<ipython-input-67-5d6e949dd726>:2: UserWarning: Boolean Series key will be reindexed to match DataFrame index.\n",
      "  plt.hist(spy_comb[spy_comb['gex_quantile']=='(3294035683.861, 24218668212.87]'][spy_comb['dix_quantile']== '(0.33, 0.402]']['Strat_Ret'], bins = 20)\n"
     ]
    },
    {
     "data": {
      "text/plain": [
       "(array([  1.,   0.,   0.,   0.,   0.,   0.,   1.,   1.,   3.,   2.,   1.,\n",
       "          3.,   6.,  18., 124.,  22.,  15.,   6.,   4.,   2.]),\n",
       " array([-14.19937945, -13.23796199, -12.27654453, -11.31512707,\n",
       "        -10.35370961,  -9.39229214,  -8.43087468,  -7.46945722,\n",
       "         -6.50803976,  -5.5466223 ,  -4.58520483,  -3.62378737,\n",
       "         -2.66236991,  -1.70095245,  -0.73953499,   0.22188248,\n",
       "          1.18329994,   2.1447174 ,   3.10613486,   4.06755232,\n",
       "          5.02896979]),\n",
       " <BarContainer object of 20 artists>)"
      ]
     },
     "execution_count": 67,
     "metadata": {},
     "output_type": "execute_result"
    },
    {
     "data": {
      "image/png": "[encoded data removed]",
      "text/plain": [
       "<Figure size 432x288 with 1 Axes>"
      ]
     },
     "metadata": {
      "needs_background": "light"
     },
     "output_type": "display_data"
    }
   ],
   "source": []
  },
  {
   "cell_type": "code",
   "execution_count": 77,
   "metadata": {},
   "outputs": [
    {
     "name": "stderr",
     "output_type": "stream",
     "text": [
      "<ipython-input-77-619e04df1219>:2: UserWarning: Boolean Series key will be reindexed to match DataFrame index.\n",
      "  worst = spy_comb[spy_comb['gex_quantile']=='(3294035683.861, 24218668212.87]'][spy_comb['dix_quantile']== '(0.33, 0.402]']['Strat_Ret']\n",
      "<ipython-input-77-619e04df1219>:3: UserWarning: Boolean Series key will be reindexed to match DataFrame index.\n",
      "  best = spy_comb[spy_comb['gex_quantile']=='(-4255747479.391, 1245022453.062]'][spy_comb['dix_quantile']== '(0.439, 0.525]']['Strat_Ret']\n"
     ]
    },
    {
     "data": {
      "text/plain": [
       "(array([[  1.,   0.,   0.,   0.,   0.,   1.,   3.,   3.,   2.,   5.,  14.,\n",
       "         123.,  33.,  16.,   5.,   2.,   1.,   0.,   0.,   0.],\n",
       "        [  1.,   0.,   0.,   1.,   0.,   3.,   4.,   5.,  10.,  14.,  32.,\n",
       "         232.,  82.,  40.,  20.,  15.,   6.,   1.,   1.,   1.]]),\n",
       " array([-14.19937945, -13.00826774, -11.81715603, -10.62604432,\n",
       "         -9.43493261,  -8.2438209 ,  -7.05270918,  -5.86159747,\n",
       "         -4.67048576,  -3.47937405,  -2.28826234,  -1.09715063,\n",
       "          0.09396109,   1.2850728 ,   2.47618451,   3.66729622,\n",
       "          4.85840793,   6.04951964,   7.24063136,   8.43174307,\n",
       "          9.62285478]),\n",
       " <a list of 2 BarContainer objects>)"
      ]
     },
     "execution_count": 77,
     "metadata": {},
     "output_type": "execute_result"
    },
    {
     "data": {
      "image/png": "[encoded data removed]",
      "text/plain": [
       "<Figure size 432x288 with 1 Axes>"
      ]
     },
     "metadata": {
      "needs_background": "light"
     },
     "output_type": "display_data"
    }
   ],
   "source": [
    "#WORST\n",
    "worst = spy_comb[spy_comb['gex_quantile']=='(3294035683.861, 24218668212.87]'][spy_comb['dix_quantile']== '(0.33, 0.402]']['Strat_Ret']\n",
    "best = spy_comb[spy_comb['gex_quantile']=='(-4255747479.391, 1245022453.062]'][spy_comb['dix_quantile']== '(0.439, 0.525]']['Strat_Ret']\n",
    "plt.hist([worst,best], bins = 20, label = 'High GEX, Low DIX', stacked = True)\n",
    "plt.legend()"
   ]
  },
  {
   "cell_type": "code",
   "execution_count": 47,
   "metadata": {},
   "outputs": [
    {
     "data": {
      "text/plain": [
       "(array([1.000e+00, 0.000e+00, 0.000e+00, 0.000e+00, 0.000e+00, 0.000e+00,\n",
       "        0.000e+00, 0.000e+00, 1.000e+00, 1.000e+00, 1.000e+00, 1.000e+00,\n",
       "        3.000e+00, 5.000e+00, 2.000e+00, 5.000e+00, 8.000e+00, 2.000e+01,\n",
       "        1.000e+01, 3.200e+01, 6.000e+01, 1.210e+02, 2.230e+02, 1.226e+03,\n",
       "        3.630e+02, 2.140e+02, 1.130e+02, 6.300e+01, 3.300e+01, 1.300e+01,\n",
       "        1.100e+01, 5.000e+00, 1.000e+00, 2.000e+00, 4.000e+00]),\n",
       " array([-23.65840942, -22.6619372 , -21.66546498, -20.66899276,\n",
       "        -19.67252054, -18.67604832, -17.6795761 , -16.68310388,\n",
       "        -15.68663166, -14.69015944, -13.69368722, -12.69721501,\n",
       "        -11.70074279, -10.70427057,  -9.70779835,  -8.71132613,\n",
       "         -7.71485391,  -6.71838169,  -5.72190947,  -4.72543725,\n",
       "         -3.72896503,  -2.73249281,  -1.7360206 ,  -0.73954838,\n",
       "          0.25692384,   1.25339606,   2.24986828,   3.2463405 ,\n",
       "          4.24281272,   5.23928494,   6.23575716,   7.23222938,\n",
       "          8.22870159,   9.22517381,  10.22164603,  11.21811825]),\n",
       " <BarContainer object of 35 artists>)"
      ]
     },
     "execution_count": 47,
     "metadata": {},
     "output_type": "execute_result"
    },
    {
     "data": {
      "image/png": "[encoded data removed]",
      "text/plain": [
       "<Figure size 432x288 with 1 Axes>"
      ]
     },
     "metadata": {
      "needs_background": "light"
     },
     "output_type": "display_data"
    }
   ],
   "source": [
    "plt.hist(spy_comb['Strat_Ret'], bins = 35)"
   ]
  },
  {
   "cell_type": "code",
   "execution_count": 32,
   "metadata": {},
   "outputs": [
    {
     "data": {
      "text/html": [
       "<div>\n",
       "<style scoped>\n",
       "    .dataframe tbody tr th:only-of-type {\n",
       "        vertical-align: middle;\n",
       "    }\n",
       "\n",
       "    .dataframe tbody tr th {\n",
       "        vertical-align: top;\n",
       "    }\n",
       "\n",
       "    .dataframe thead th {\n",
       "        text-align: right;\n",
       "    }\n",
       "</style>\n",
       "<table border=\"1\" class=\"dataframe\">\n",
       "  <thead>\n",
       "    <tr style=\"text-align: right;\">\n",
       "      <th></th>\n",
       "      <th>Date</th>\n",
       "      <th>price</th>\n",
       "      <th>dix</th>\n",
       "      <th>gex</th>\n",
       "    </tr>\n",
       "  </thead>\n",
       "  <tbody>\n",
       "    <tr>\n",
       "      <th>0</th>\n",
       "      <td>2011-05-02</td>\n",
       "      <td>1361.219971</td>\n",
       "      <td>0.378842</td>\n",
       "      <td>1.897313e+09</td>\n",
       "    </tr>\n",
       "    <tr>\n",
       "      <th>1</th>\n",
       "      <td>2011-05-03</td>\n",
       "      <td>1356.619995</td>\n",
       "      <td>0.383411</td>\n",
       "      <td>1.859731e+09</td>\n",
       "    </tr>\n",
       "    <tr>\n",
       "      <th>2</th>\n",
       "      <td>2011-05-04</td>\n",
       "      <td>1347.319946</td>\n",
       "      <td>0.392122</td>\n",
       "      <td>1.717764e+09</td>\n",
       "    </tr>\n",
       "    <tr>\n",
       "      <th>3</th>\n",
       "      <td>2011-05-05</td>\n",
       "      <td>1335.099976</td>\n",
       "      <td>0.405457</td>\n",
       "      <td>1.361864e+09</td>\n",
       "    </tr>\n",
       "    <tr>\n",
       "      <th>4</th>\n",
       "      <td>2011-05-06</td>\n",
       "      <td>1340.199951</td>\n",
       "      <td>0.418649</td>\n",
       "      <td>1.490329e+09</td>\n",
       "    </tr>\n",
       "    <tr>\n",
       "      <th>...</th>\n",
       "      <td>...</td>\n",
       "      <td>...</td>\n",
       "      <td>...</td>\n",
       "      <td>...</td>\n",
       "    </tr>\n",
       "    <tr>\n",
       "      <th>2537</th>\n",
       "      <td>2021-06-01</td>\n",
       "      <td>4202.040039</td>\n",
       "      <td>0.418425</td>\n",
       "      <td>3.473156e+09</td>\n",
       "    </tr>\n",
       "    <tr>\n",
       "      <th>2538</th>\n",
       "      <td>2021-06-02</td>\n",
       "      <td>4208.120117</td>\n",
       "      <td>0.428627</td>\n",
       "      <td>4.142372e+09</td>\n",
       "    </tr>\n",
       "    <tr>\n",
       "      <th>2539</th>\n",
       "      <td>2021-06-03</td>\n",
       "      <td>4192.850098</td>\n",
       "      <td>0.409328</td>\n",
       "      <td>7.235541e+08</td>\n",
       "    </tr>\n",
       "    <tr>\n",
       "      <th>2540</th>\n",
       "      <td>2021-06-04</td>\n",
       "      <td>4229.890137</td>\n",
       "      <td>0.435628</td>\n",
       "      <td>2.749222e+09</td>\n",
       "    </tr>\n",
       "    <tr>\n",
       "      <th>2541</th>\n",
       "      <td>2021-06-07</td>\n",
       "      <td>4226.520020</td>\n",
       "      <td>0.452820</td>\n",
       "      <td>6.382166e+09</td>\n",
       "    </tr>\n",
       "  </tbody>\n",
       "</table>\n",
       "<p>2542 rows × 4 columns</p>\n",
       "</div>"
      ],
      "text/plain": [
       "            Date        price       dix           gex\n",
       "0     2011-05-02  1361.219971  0.378842  1.897313e+09\n",
       "1     2011-05-03  1356.619995  0.383411  1.859731e+09\n",
       "2     2011-05-04  1347.319946  0.392122  1.717764e+09\n",
       "3     2011-05-05  1335.099976  0.405457  1.361864e+09\n",
       "4     2011-05-06  1340.199951  0.418649  1.490329e+09\n",
       "...          ...          ...       ...           ...\n",
       "2537  2021-06-01  4202.040039  0.418425  3.473156e+09\n",
       "2538  2021-06-02  4208.120117  0.428627  4.142372e+09\n",
       "2539  2021-06-03  4192.850098  0.409328  7.235541e+08\n",
       "2540  2021-06-04  4229.890137  0.435628  2.749222e+09\n",
       "2541  2021-06-07  4226.520020  0.452820  6.382166e+09\n",
       "\n",
       "[2542 rows x 4 columns]"
      ]
     },
     "execution_count": 32,
     "metadata": {},
     "output_type": "execute_result"
    }
   ],
   "source": [
    "gex = pd.read_csv('gex.csv')\n",
    "gex = gex.rename({'date':'Date'}, axis = 1)[:-22]\n",
    "gex"
   ]
  },
  {
   "cell_type": "code",
   "execution_count": null,
   "metadata": {},
   "outputs": [],
   "source": [
    "#vx['Date'] = [datetime.datetime.strptime(str(i) ,'%Y%m%d') for i in vx['Date']]\n",
    "pnl_with_vix = spy_df.merge(vx[vx['Date'].between(str(df['SPY'].index[0]), str(df['SPY'].index[-1]))])"
   ]
  },
  {
   "cell_type": "code",
   "execution_count": null,
   "metadata": {},
   "outputs": [],
   "source": [
    "plt.hist(pnl_with_vix['Strat_Ret'], bins = 35)"
   ]
  },
  {
   "cell_type": "code",
   "execution_count": null,
   "metadata": {},
   "outputs": [],
   "source": [
    "pnl_with_vix['pnl_quantile'] = pd.qcut(pnl_with_vix['Strat_Ret'], q = 2)\n",
    "grouped = pnl_with_vix.groupby('pnl_quantile').mean().iloc[:,3:].transpose()\n",
    "for col in grouped:\n",
    "    plt.plot(grouped[col], label = col)\n",
    "plt.legend()"
   ]
  },
  {
   "cell_type": "code",
   "execution_count": null,
   "metadata": {},
   "outputs": [],
   "source": [
    "pnl_with_vix['vix_1_quantile'] = pd.qcut(pnl_with_vix['VIX_1^2'], q = 4)\n",
    "grouped = pd.DataFrame(pnl_with_vix.groupby('vix_1_quantile').mean().iloc[:,2].transpose())\n",
    "grouped = grouped.reset_index()\n",
    "\n",
    "plt.bar([str(i) for i in grouped['vix_1_quantile']],grouped['Strat_Ret'], label = 'Strat Ret')\n",
    "plt.legend()\n",
    "grouped"
   ]
  },
  {
   "cell_type": "code",
   "execution_count": null,
   "metadata": {},
   "outputs": [],
   "source": [
    "pnl_with_vix['vix_2_quantile'] = pd.qcut(pnl_with_vix['VIX_2^2'], q = 4)\n",
    "grouped = pd.DataFrame(pnl_with_vix.groupby('vix_2_quantile').mean().iloc[:,2].transpose())\n",
    "grouped = grouped.reset_index()\n",
    "\n",
    "plt.bar([str(i) for i in grouped['vix_2_quantile']],grouped['Strat_Ret'], label = 'Strat Ret')\n",
    "plt.legend()\n",
    "grouped"
   ]
  },
  {
   "cell_type": "code",
   "execution_count": null,
   "metadata": {},
   "outputs": [],
   "source": [
    "pnl_with_vix['vix_3_quantile'] = pd.qcut(pnl_with_vix['VIX_3^2'], q = 4)\n",
    "grouped = pd.DataFrame(pnl_with_vix.groupby('vix_3_quantile').mean().iloc[:,2].transpose())\n",
    "grouped = grouped.reset_index()\n",
    "\n",
    "plt.bar([str(i) for i in grouped['vix_3_quantile']],grouped['Strat_Ret'], label = 'Strat Ret')\n",
    "plt.legend()\n",
    "grouped"
   ]
  },
  {
   "cell_type": "code",
   "execution_count": null,
   "metadata": {},
   "outputs": [],
   "source": [
    "pnl_with_vix['vix_6_quantile'] = pd.qcut(pnl_with_vix['VIX_6^2'], q = 4)\n",
    "grouped = pd.DataFrame(pnl_with_vix.groupby('vix_6_quantile').mean().iloc[:,2].transpose())\n",
    "grouped = grouped.reset_index()\n",
    "\n",
    "plt.bar([str(i) for i in grouped['vix_6_quantile']],grouped['Strat_Ret'], label = 'Strat Ret')\n",
    "plt.legend()\n",
    "grouped"
   ]
  },
  {
   "cell_type": "code",
   "execution_count": null,
   "metadata": {},
   "outputs": [],
   "source": [
    "pnl_with_vix['vix_9_quantile'] = pd.qcut(pnl_with_vix['VIX_9^2'], q = 4)\n",
    "grouped = pd.DataFrame(pnl_with_vix.groupby('vix_9_quantile').mean().iloc[:,2].transpose())\n",
    "grouped = grouped.reset_index()\n",
    "\n",
    "plt.bar([str(i) for i in grouped['vix_9_quantile']],grouped['Strat_Ret'], label = 'Strat Ret')\n",
    "plt.legend()\n",
    "grouped"
   ]
  },
  {
   "cell_type": "code",
   "execution_count": null,
   "metadata": {},
   "outputs": [],
   "source": [
    "pnl_with_vix['vix_12_quantile'] = pd.qcut(pnl_with_vix['VIX_12^2'], q = 4)\n",
    "grouped = pd.DataFrame(pnl_with_vix.groupby('vix_12_quantile').mean().iloc[:,2].transpose())\n",
    "grouped = grouped.reset_index()\n",
    "\n",
    "plt.bar([str(i) for i in grouped['vix_12_quantile']],grouped['Strat_Ret'], label = 'Strat Ret')\n",
    "plt.legend()\n",
    "grouped"
   ]
  },
  {
   "cell_type": "code",
   "execution_count": null,
   "metadata": {
    "scrolled": true
   },
   "outputs": [],
   "source": [
    "pairs = [[0.0204, 0.0342], [0.0227, 0.0335], [0.0245, 0.0385], [0.0283, 0.0418], \n",
    "[0.0307, 0.0431], [0.0142, 0.0322]] \n",
    "plt.plot([pair[0] for pair in pairs])\n",
    "plt.plot([pair[1] for pair in pairs]) "
   ]
  },
  {
   "cell_type": "code",
   "execution_count": null,
   "metadata": {},
   "outputs": [],
   "source": [
    "pnl_with_vix"
   ]
  },
  {
   "cell_type": "code",
   "execution_count": null,
   "metadata": {},
   "outputs": [],
   "source": [
    "plt.plot(pnls['5_50_2_AMZN'], label = 'Strat')\n",
    "plt.plot(pnls['Long_AMZN'], label = 'Long AMZN')\n",
    "plt.legend()"
   ]
  },
  {
   "cell_type": "code",
   "execution_count": null,
   "metadata": {},
   "outputs": [],
   "source": [
    "yfinance.download('QQQ')"
   ]
  },
  {
   "cell_type": "code",
   "execution_count": null,
   "metadata": {
    "scrolled": true
   },
   "outputs": [],
   "source": [
    "qqq_df = pd.DataFrame(pnls)\n",
    "qqq_df['Strat_Ret'] = qqq_df['5_50_5_QQQ'] - qqq_df['5_50_5_QQQ'].shift(1)"
   ]
  },
  {
   "cell_type": "code",
   "execution_count": null,
   "metadata": {},
   "outputs": [],
   "source": [
    "def sharpe(ret, sd):\n",
    "    return (ret)/sd"
   ]
  },
  {
   "cell_type": "code",
   "execution_count": null,
   "metadata": {},
   "outputs": [],
   "source": [
    "total_ret = (qqq_df.iloc[-1]['5_50_5_QQQ'] - qqq_df.iloc[0]['5_50_5_QQQ'])/qqq_df.iloc[0]['5_50_5_QQQ']\n",
    "qqq_df['pct_return'] = qqq_df.pct_change()['5_50_5_QQQ']"
   ]
  },
  {
   "cell_type": "code",
   "execution_count": null,
   "metadata": {},
   "outputs": [],
   "source": [
    "np.mean(qqq_df['pct_return'])/np.std(qqq_df['pct_return'])"
   ]
  },
  {
   "cell_type": "code",
   "execution_count": null,
   "metadata": {},
   "outputs": [],
   "source": [
    "np.mean(qqq_df['5_50_5_QQQ'])/np.std(qqq_df['5_50_5_QQQ'])"
   ]
  },
  {
   "cell_type": "code",
   "execution_count": null,
   "metadata": {},
   "outputs": [],
   "source": [
    "np.mean(qqq_df['Long_QQQ'])/np.std(qqq_df['Long_QQQ'])"
   ]
  },
  {
   "cell_type": "code",
   "execution_count": null,
   "metadata": {},
   "outputs": [],
   "source": [
    "qqq_df"
   ]
  },
  {
   "cell_type": "code",
   "execution_count": null,
   "metadata": {},
   "outputs": [],
   "source": [
    "for key in pnls.keys():\n",
    "    plt.plot(pnls[key], label = key)\n",
    "    print(f'Sharpe({key}):{np.mean(pd.DataFrame(pnls[key])/np.std(pd.DataFrame(pnls[key])))}')\n",
    "plt.legend()"
   ]
  },
  {
   "cell_type": "code",
   "execution_count": null,
   "metadata": {},
   "outputs": [],
   "source": [
    "plt.plot(pnls['4_4'])"
   ]
  },
  {
   "cell_type": "code",
   "execution_count": null,
   "metadata": {},
   "outputs": [],
   "source": [
    "pnl = [100000]\n",
    "errors = []\n",
    "pnl_spy = [100000]\n",
    "\n",
    "for i in range(len(dta)-1):\n",
    "    pnl_spy.append(pnl_spy[-1] * (1+dta.iloc[i+1]['Pct_Change']))\n",
    "    if dta.iloc[i]['Close'] < dta.iloc[i]['E']:\n",
    "        pnl.append(pnl[-1]*(1+dta.iloc[i+1]['Pct_Change']))\n",
    "    else:\n",
    "        pnl.append(pnl[-1])\n",
    "        #pnl.append(pnl[i]*(1+(-1*dta.iloc[i]['Pct_Change'])))\n",
    "    errors.append(dta.iloc[i]['Actual'] - dta.iloc[i]['E'])\n",
    "plt.plot(pnl)\n",
    "plt.plot(pnl_spy)"
   ]
  },
  {
   "cell_type": "code",
   "execution_count": null,
   "metadata": {},
   "outputs": [],
   "source": [
    "print(np.mean(pnl)/np.std(pnl), np.mean(pnl_spy)/np.std(pnl_spy))"
   ]
  },
  {
   "cell_type": "code",
   "execution_count": null,
   "metadata": {},
   "outputs": [],
   "source": [
    "df = pd.DataFrame()\n",
    "df['PNL']= pnl\n",
    "df['PNL_Pct_Change'] = df.pct_change()\n",
    "df['PNL_Change'] = df['PNL'] - df['PNL'].shift(1)\n",
    "df\n",
    "#plt.hist(df['PNL_Change'], bins = 1000)\n",
    "#plt.hist(df['PNL'], bins = 1000)\n",
    "df\n",
    "#np.mean(df['PNL'])/np.std(df['PNL'])"
   ]
  },
  {
   "cell_type": "code",
   "execution_count": null,
   "metadata": {},
   "outputs": [],
   "source": [
    "plt.plot(dta['Close'])\n"
   ]
  },
  {
   "cell_type": "code",
   "execution_count": null,
   "metadata": {},
   "outputs": [],
   "source": [
    "#simulated sp500\n",
    "def pnl_walk(a, n, rates):\n",
    "    # defining the number of steps\n",
    "    \n",
    "    # n must = lenrates\n",
    "\n",
    "    #creating two array for containing x and y coordinate\n",
    "    #of size equals to the number of size and filled up with 0's\n",
    "    x = numpy.zeros(n)\n",
    "    x[0] = a\n",
    "\n",
    "    # filling the coordinates with random variables\n",
    "    for i in range(1, n):\n",
    "        rate = np.random.choice(rates)\n",
    "        x[i] = x[i-1]*(1+rate)\n",
    "    \n",
    "    \n",
    "    return x\n"
   ]
  },
  {
   "cell_type": "code",
   "execution_count": null,
   "metadata": {},
   "outputs": [],
   "source": [
    "def simulate_rndm_pnl(n_sims, starting_val, steps, generated):\n",
    "    ends = []\n",
    "    sers = []\n",
    "    for i in range(n_sims):\n",
    "        ser = pnl_walk(starting_val, steps, generated)\n",
    "        sers.append(ser)\n",
    "        ends.append(ser[-1])\n",
    "        #plt.plot(ser)\n",
    "    \n",
    "    return sers, ends\n",
    "    #plt.ticklabel_format(style = 'plain')\n",
    "    #print(f'Mean Ending Value = {np.mean(ends)}, Sd = {np.std(ends)/n_sims}')"
   ]
  },
  {
   "cell_type": "code",
   "execution_count": null,
   "metadata": {},
   "outputs": [],
   "source": [
    "import pandas as pd\n",
    "close_copy = close.copy()\n",
    "cur = close_copy.iloc[-1]['log_return']\n",
    "rolling_sd = close_copy.iloc[-1]['rolling_sd']\n",
    "rolling_mean = close_copy.iloc[-1]['rolling_mean']\n",
    "generated = np.random.normal(rolling_mean,rolling_sd,1000)\n",
    "paths = simulate_rndm_pnl(1000, cur, 25,generated)\n",
    "df = pd.DataFrame(paths).transpose()"
   ]
  },
  {
   "cell_type": "code",
   "execution_count": null,
   "metadata": {
    "scrolled": true
   },
   "outputs": [],
   "source": [
    "for col in df:\n",
    "    plt.plot(df[col])"
   ]
  },
  {
   "cell_type": "code",
   "execution_count": null,
   "metadata": {},
   "outputs": [],
   "source": []
  },
  {
   "cell_type": "code",
   "execution_count": null,
   "metadata": {},
   "outputs": [],
   "source": [
    "data = "
   ]
  }
 ],
 "metadata": {
  "kernelspec": {
   "display_name": "Python 3",
   "language": "python",
   "name": "python3"
  },
  "language_info": {
   "codemirror_mode": {
    "name": "ipython",
    "version": 3
   },
   "file_extension": ".py",
   "mimetype": "text/x-python",
   "name": "python",
   "nbconvert_exporter": "python",
   "pygments_lexer": "ipython3",
   "version": "3.8.5"
  }
 },
 "nbformat": 4,
 "nbformat_minor": 4
}

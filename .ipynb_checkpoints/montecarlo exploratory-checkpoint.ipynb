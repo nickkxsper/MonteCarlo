{
 "cells": [
  {
   "cell_type": "code",
   "execution_count": 2,
   "metadata": {},
   "outputs": [],
   "source": [
    "import numpy as np\n",
    "import matplotlib.pyplot as plt\n",
    "import pandas as pd\n",
    "import yfinance\n",
    "import pylab\n",
    "import random\n",
    "from monte_funcs import *\n",
    "from IPython.display import clear_output\n",
    "import datetime"
   ]
  },
  {
   "cell_type": "code",
   "execution_count": 2,
   "metadata": {},
   "outputs": [],
   "source": [
    "vx = pd.read_csv('vixts.csv')"
   ]
  },
  {
   "cell_type": "code",
   "execution_count": 2,
   "metadata": {
    "scrolled": true
   },
   "outputs": [],
   "source": [
    "#(strat, starting_amt, max_draw, wait_after_stop, tkrs, rolling_lookback, n_paths, n_days_project):"
   ]
  },
  {
   "cell_type": "code",
   "execution_count": 3,
   "metadata": {},
   "outputs": [
    {
     "name": "stdout",
     "output_type": "stream",
     "text": [
      "stopped\n",
      "[*********************100%***********************]  1 of 1 completed\n",
      "Strat Sharpe (2_100_2_nkla): 1.3487542385339708, Buy and Hold Sharpe (nkla): 1.3499400503648447\n",
      "Return Strat(%): 192.07964725589989, Return Buy and Hold(%): 71.26436689974685\n",
      "3.0833333333332575\n",
      "Anualized Return Strat(%): 0.41570704455844365, Anualized Return Buy and Hold(%): 0.19064939673434922\n",
      "Anualized Vol Strat(%): 0.341316070883668, Anualized Vol Buy and Hold(%): 0.3011119855757496\n",
      "\n",
      "\n"
     ]
    },
    {
     "data": {
      "text/plain": [
       "{'nkla':             2_100_2_nkla   Long_nkla  Strat_Ret\n",
       " Date                                           \n",
       " 2018-06-11    100.000000  100.000000        NaN\n",
       " 2018-06-12    100.000000  100.000000   0.000000\n",
       " 2018-06-13    100.000000  100.000000   0.000000\n",
       " 2018-06-14    100.000000  100.104496   0.000000\n",
       " 2018-06-15     99.895613  100.000000  -0.104387\n",
       " ...                  ...         ...        ...\n",
       " 2021-06-25    271.495705  185.161963 -18.538944\n",
       " 2021-06-28    266.286417  188.714734  -5.209288\n",
       " 2021-06-29    282.063072  177.533964  15.776655\n",
       " 2021-06-30    291.194000  171.786845   9.130929\n",
       " 2021-07-01    292.079647  171.264367   0.885647\n",
       " \n",
       " [771 rows x 3 columns]}"
      ]
     },
     "execution_count": 3,
     "metadata": {},
     "output_type": "execute_result"
    },
    {
     "data": {
      "image/png": "[encoded data removed]",
      "text/plain": [
       "<Figure size 432x288 with 2 Axes>"
      ]
     },
     "metadata": {
      "needs_background": "light"
     },
     "output_type": "display_data"
    }
   ],
   "source": [
    "sim_and_test('LongShort', 100, 0.1, 5, ['nkla'], 2, 100, 2)"
   ]
  },
  {
   "cell_type": "code",
   "execution_count": null,
   "metadata": {},
   "outputs": [],
   "source": []
  },
  {
   "cell_type": "code",
   "execution_count": null,
   "metadata": {},
   "outputs": [],
   "source": []
  },
  {
   "cell_type": "code",
   "execution_count": 91,
   "metadata": {},
   "outputs": [
    {
     "data": {
      "text/html": [
       "<div>\n",
       "<style scoped>\n",
       "    .dataframe tbody tr th:only-of-type {\n",
       "        vertical-align: middle;\n",
       "    }\n",
       "\n",
       "    .dataframe tbody tr th {\n",
       "        vertical-align: top;\n",
       "    }\n",
       "\n",
       "    .dataframe thead th {\n",
       "        text-align: right;\n",
       "    }\n",
       "</style>\n",
       "<table border=\"1\" class=\"dataframe\">\n",
       "  <thead>\n",
       "    <tr style=\"text-align: right;\">\n",
       "      <th></th>\n",
       "      <th>Date</th>\n",
       "      <th>VIX_1^2</th>\n",
       "      <th>VIX_2^2</th>\n",
       "      <th>VIX_3^2</th>\n",
       "      <th>VIX_6^2</th>\n",
       "      <th>VIX_9^2</th>\n",
       "      <th>VIX_12^2</th>\n",
       "    </tr>\n",
       "  </thead>\n",
       "  <tbody>\n",
       "    <tr>\n",
       "      <th>0</th>\n",
       "      <td>1996-01-04</td>\n",
       "      <td>0.01771</td>\n",
       "      <td>0.01681</td>\n",
       "      <td>0.01668</td>\n",
       "      <td>0.01785</td>\n",
       "      <td>0.01891</td>\n",
       "      <td>0.02027</td>\n",
       "    </tr>\n",
       "    <tr>\n",
       "      <th>1</th>\n",
       "      <td>1996-01-05</td>\n",
       "      <td>0.01708</td>\n",
       "      <td>0.01674</td>\n",
       "      <td>0.01661</td>\n",
       "      <td>0.01828</td>\n",
       "      <td>0.02034</td>\n",
       "      <td>0.01993</td>\n",
       "    </tr>\n",
       "    <tr>\n",
       "      <th>2</th>\n",
       "      <td>1996-01-08</td>\n",
       "      <td>0.01610</td>\n",
       "      <td>0.01589</td>\n",
       "      <td>0.01582</td>\n",
       "      <td>0.01739</td>\n",
       "      <td>0.01863</td>\n",
       "      <td>0.01955</td>\n",
       "    </tr>\n",
       "    <tr>\n",
       "      <th>3</th>\n",
       "      <td>1996-01-09</td>\n",
       "      <td>0.02406</td>\n",
       "      <td>0.01904</td>\n",
       "      <td>0.01675</td>\n",
       "      <td>0.01858</td>\n",
       "      <td>0.01955</td>\n",
       "      <td>0.02088</td>\n",
       "    </tr>\n",
       "    <tr>\n",
       "      <th>4</th>\n",
       "      <td>1996-01-10</td>\n",
       "      <td>0.02494</td>\n",
       "      <td>0.02151</td>\n",
       "      <td>0.02006</td>\n",
       "      <td>0.01978</td>\n",
       "      <td>0.02079</td>\n",
       "      <td>0.02184</td>\n",
       "    </tr>\n",
       "    <tr>\n",
       "      <th>...</th>\n",
       "      <td>...</td>\n",
       "      <td>...</td>\n",
       "      <td>...</td>\n",
       "      <td>...</td>\n",
       "      <td>...</td>\n",
       "      <td>...</td>\n",
       "      <td>...</td>\n",
       "    </tr>\n",
       "    <tr>\n",
       "      <th>5907</th>\n",
       "      <td>2019-06-24</td>\n",
       "      <td>0.02402</td>\n",
       "      <td>0.02642</td>\n",
       "      <td>0.02783</td>\n",
       "      <td>0.03070</td>\n",
       "      <td>0.03137</td>\n",
       "      <td>0.03290</td>\n",
       "    </tr>\n",
       "    <tr>\n",
       "      <th>5908</th>\n",
       "      <td>2019-06-25</td>\n",
       "      <td>0.02718</td>\n",
       "      <td>0.02870</td>\n",
       "      <td>0.02980</td>\n",
       "      <td>0.03222</td>\n",
       "      <td>0.03277</td>\n",
       "      <td>0.03402</td>\n",
       "    </tr>\n",
       "    <tr>\n",
       "      <th>5909</th>\n",
       "      <td>2019-06-26</td>\n",
       "      <td>0.02705</td>\n",
       "      <td>0.02812</td>\n",
       "      <td>0.02945</td>\n",
       "      <td>0.03219</td>\n",
       "      <td>0.03296</td>\n",
       "      <td>0.03384</td>\n",
       "    </tr>\n",
       "    <tr>\n",
       "      <th>5910</th>\n",
       "      <td>2019-06-27</td>\n",
       "      <td>0.02626</td>\n",
       "      <td>0.02715</td>\n",
       "      <td>0.02836</td>\n",
       "      <td>0.03063</td>\n",
       "      <td>0.03191</td>\n",
       "      <td>0.03293</td>\n",
       "    </tr>\n",
       "    <tr>\n",
       "      <th>5911</th>\n",
       "      <td>2019-06-28</td>\n",
       "      <td>0.02525</td>\n",
       "      <td>0.02688</td>\n",
       "      <td>0.02791</td>\n",
       "      <td>0.03151</td>\n",
       "      <td>0.03227</td>\n",
       "      <td>0.03603</td>\n",
       "    </tr>\n",
       "  </tbody>\n",
       "</table>\n",
       "<p>5912 rows × 7 columns</p>\n",
       "</div>"
      ],
      "text/plain": [
       "           Date  VIX_1^2  VIX_2^2  VIX_3^2  VIX_6^2  VIX_9^2  VIX_12^2\n",
       "0    1996-01-04  0.01771  0.01681  0.01668  0.01785  0.01891   0.02027\n",
       "1    1996-01-05  0.01708  0.01674  0.01661  0.01828  0.02034   0.01993\n",
       "2    1996-01-08  0.01610  0.01589  0.01582  0.01739  0.01863   0.01955\n",
       "3    1996-01-09  0.02406  0.01904  0.01675  0.01858  0.01955   0.02088\n",
       "4    1996-01-10  0.02494  0.02151  0.02006  0.01978  0.02079   0.02184\n",
       "...         ...      ...      ...      ...      ...      ...       ...\n",
       "5907 2019-06-24  0.02402  0.02642  0.02783  0.03070  0.03137   0.03290\n",
       "5908 2019-06-25  0.02718  0.02870  0.02980  0.03222  0.03277   0.03402\n",
       "5909 2019-06-26  0.02705  0.02812  0.02945  0.03219  0.03296   0.03384\n",
       "5910 2019-06-27  0.02626  0.02715  0.02836  0.03063  0.03191   0.03293\n",
       "5911 2019-06-28  0.02525  0.02688  0.02791  0.03151  0.03227   0.03603\n",
       "\n",
       "[5912 rows x 7 columns]"
      ]
     },
     "execution_count": 91,
     "metadata": {},
     "output_type": "execute_result"
    }
   ],
   "source": [
    "spy_df = df['SPY'].reset_index()\n",
    "spy_df"
   ]
  },
  {
   "cell_type": "code",
   "execution_count": 117,
   "metadata": {},
   "outputs": [],
   "source": [
    "#vx['Date'] = [datetime.datetime.strptime(str(i) ,'%Y%m%d') for i in vx['Date']]\n",
    "pnl_with_vix = spy_df.merge(vx[vx['Date'].between(str(df['SPY'].index[0]), str(df['SPY'].index[-1]))])"
   ]
  },
  {
   "cell_type": "code",
   "execution_count": 132,
   "metadata": {},
   "outputs": [
    {
     "data": {
      "text/plain": [
       "(array([1.000e+00, 0.000e+00, 0.000e+00, 0.000e+00, 0.000e+00, 0.000e+00,\n",
       "        1.000e+00, 1.000e+00, 1.000e+00, 0.000e+00, 2.000e+00, 2.000e+00,\n",
       "        2.000e+00, 1.400e+01, 1.200e+01, 3.400e+01, 5.900e+01, 1.060e+02,\n",
       "        2.380e+02, 4.490e+02, 3.168e+03, 8.790e+02, 5.210e+02, 2.340e+02,\n",
       "        1.040e+02, 4.600e+01, 1.900e+01, 1.100e+01, 7.000e+00, 0.000e+00,\n",
       "        0.000e+00, 0.000e+00, 0.000e+00, 0.000e+00, 1.000e+00]),\n",
       " array([-11.42800284, -10.88117909, -10.33435534,  -9.78753158,\n",
       "         -9.24070783,  -8.69388408,  -8.14706033,  -7.60023657,\n",
       "         -7.05341282,  -6.50658907,  -5.95976532,  -5.41294156,\n",
       "         -4.86611781,  -4.31929406,  -3.77247031,  -3.22564655,\n",
       "         -2.6788228 ,  -2.13199905,  -1.5851753 ,  -1.03835154,\n",
       "         -0.49152779,   0.05529596,   0.60211971,   1.14894347,\n",
       "          1.69576722,   2.24259097,   2.78941472,   3.33623848,\n",
       "          3.88306223,   4.42988598,   4.97670973,   5.52353349,\n",
       "          6.07035724,   6.61718099,   7.16400474,   7.7108285 ]),\n",
       " <BarContainer object of 35 artists>)"
      ]
     },
     "execution_count": 132,
     "metadata": {},
     "output_type": "execute_result"
    },
    {
     "data": {
      "image/png": "[encoded data removed]",
      "text/plain": [
       "<Figure size 432x288 with 1 Axes>"
      ]
     },
     "metadata": {
      "needs_background": "light"
     },
     "output_type": "display_data"
    }
   ],
   "source": [
    "plt.hist(pnl_with_vix['Strat_Ret'], bins = 35)"
   ]
  },
  {
   "cell_type": "code",
   "execution_count": 141,
   "metadata": {},
   "outputs": [
    {
     "data": {
      "text/plain": [
       "<matplotlib.legend.Legend at 0x1fe5e834100>"
      ]
     },
     "execution_count": 141,
     "metadata": {},
     "output_type": "execute_result"
    },
    {
     "data": {
      "image/png": "[encoded data removed]",
      "text/plain": [
       "<Figure size 432x288 with 1 Axes>"
      ]
     },
     "metadata": {
      "needs_background": "light"
     },
     "output_type": "display_data"
    }
   ],
   "source": [
    "pnl_with_vix['pnl_quantile'] = pd.qcut(pnl_with_vix['Strat_Ret'], q = 2)\n",
    "grouped = pnl_with_vix.groupby('pnl_quantile').mean().iloc[:,3:].transpose()\n",
    "for col in grouped:\n",
    "    plt.plot(grouped[col], label = col)\n",
    "plt.legend()"
   ]
  },
  {
   "cell_type": "code",
   "execution_count": 163,
   "metadata": {},
   "outputs": [
    {
     "data": {
      "text/html": [
       "<div>\n",
       "<style scoped>\n",
       "    .dataframe tbody tr th:only-of-type {\n",
       "        vertical-align: middle;\n",
       "    }\n",
       "\n",
       "    .dataframe tbody tr th {\n",
       "        vertical-align: top;\n",
       "    }\n",
       "\n",
       "    .dataframe thead th {\n",
       "        text-align: right;\n",
       "    }\n",
       "</style>\n",
       "<table border=\"1\" class=\"dataframe\">\n",
       "  <thead>\n",
       "    <tr style=\"text-align: right;\">\n",
       "      <th></th>\n",
       "      <th>vix_1_quantile</th>\n",
       "      <th>Strat_Ret</th>\n",
       "    </tr>\n",
       "  </thead>\n",
       "  <tbody>\n",
       "    <tr>\n",
       "      <th>0</th>\n",
       "      <td>(0.00664, 0.0204]</td>\n",
       "      <td>0.004242</td>\n",
       "    </tr>\n",
       "    <tr>\n",
       "      <th>1</th>\n",
       "      <td>(0.0204, 0.0342]</td>\n",
       "      <td>0.029190</td>\n",
       "    </tr>\n",
       "    <tr>\n",
       "      <th>2</th>\n",
       "      <td>(0.0342, 0.055]</td>\n",
       "      <td>-0.004422</td>\n",
       "    </tr>\n",
       "    <tr>\n",
       "      <th>3</th>\n",
       "      <td>(0.055, 0.657]</td>\n",
       "      <td>0.022843</td>\n",
       "    </tr>\n",
       "  </tbody>\n",
       "</table>\n",
       "</div>"
      ],
      "text/plain": [
       "      vix_1_quantile  Strat_Ret\n",
       "0  (0.00664, 0.0204]   0.004242\n",
       "1   (0.0204, 0.0342]   0.029190\n",
       "2    (0.0342, 0.055]  -0.004422\n",
       "3     (0.055, 0.657]   0.022843"
      ]
     },
     "execution_count": 163,
     "metadata": {},
     "output_type": "execute_result"
    },
    {
     "data": {
      "image/png": "[encoded data removed]",
      "text/plain": [
       "<Figure size 432x288 with 1 Axes>"
      ]
     },
     "metadata": {
      "needs_background": "light"
     },
     "output_type": "display_data"
    }
   ],
   "source": [
    "pnl_with_vix['vix_1_quantile'] = pd.qcut(pnl_with_vix['VIX_1^2'], q = 4)\n",
    "grouped = pd.DataFrame(pnl_with_vix.groupby('vix_1_quantile').mean().iloc[:,2].transpose())\n",
    "grouped = grouped.reset_index()\n",
    "\n",
    "plt.bar([str(i) for i in grouped['vix_1_quantile']],grouped['Strat_Ret'], label = 'Strat Ret')\n",
    "plt.legend()\n",
    "grouped"
   ]
  },
  {
   "cell_type": "code",
   "execution_count": 165,
   "metadata": {},
   "outputs": [
    {
     "data": {
      "text/html": [
       "<div>\n",
       "<style scoped>\n",
       "    .dataframe tbody tr th:only-of-type {\n",
       "        vertical-align: middle;\n",
       "    }\n",
       "\n",
       "    .dataframe tbody tr th {\n",
       "        vertical-align: top;\n",
       "    }\n",
       "\n",
       "    .dataframe thead th {\n",
       "        text-align: right;\n",
       "    }\n",
       "</style>\n",
       "<table border=\"1\" class=\"dataframe\">\n",
       "  <thead>\n",
       "    <tr style=\"text-align: right;\">\n",
       "      <th></th>\n",
       "      <th>vix_2_quantile</th>\n",
       "      <th>Strat_Ret</th>\n",
       "    </tr>\n",
       "  </thead>\n",
       "  <tbody>\n",
       "    <tr>\n",
       "      <th>0</th>\n",
       "      <td>(0.009600000000000001, 0.0227]</td>\n",
       "      <td>0.006887</td>\n",
       "    </tr>\n",
       "    <tr>\n",
       "      <th>1</th>\n",
       "      <td>(0.0227, 0.0364]</td>\n",
       "      <td>0.022236</td>\n",
       "    </tr>\n",
       "    <tr>\n",
       "      <th>2</th>\n",
       "      <td>(0.0364, 0.0569]</td>\n",
       "      <td>-0.003374</td>\n",
       "    </tr>\n",
       "    <tr>\n",
       "      <th>3</th>\n",
       "      <td>(0.0569, 0.618]</td>\n",
       "      <td>0.026103</td>\n",
       "    </tr>\n",
       "  </tbody>\n",
       "</table>\n",
       "</div>"
      ],
      "text/plain": [
       "                   vix_2_quantile  Strat_Ret\n",
       "0  (0.009600000000000001, 0.0227]   0.006887\n",
       "1                (0.0227, 0.0364]   0.022236\n",
       "2                (0.0364, 0.0569]  -0.003374\n",
       "3                 (0.0569, 0.618]   0.026103"
      ]
     },
     "execution_count": 165,
     "metadata": {},
     "output_type": "execute_result"
    },
    {
     "data": {
      "image/png": "[encoded data removed]",
      "text/plain": [
       "<Figure size 432x288 with 1 Axes>"
      ]
     },
     "metadata": {
      "needs_background": "light"
     },
     "output_type": "display_data"
    }
   ],
   "source": [
    "pnl_with_vix['vix_2_quantile'] = pd.qcut(pnl_with_vix['VIX_2^2'], q = 4)\n",
    "grouped = pd.DataFrame(pnl_with_vix.groupby('vix_2_quantile').mean().iloc[:,2].transpose())\n",
    "grouped = grouped.reset_index()\n",
    "\n",
    "plt.bar([str(i) for i in grouped['vix_2_quantile']],grouped['Strat_Ret'], label = 'Strat Ret')\n",
    "plt.legend()\n",
    "grouped"
   ]
  },
  {
   "cell_type": "code",
   "execution_count": 166,
   "metadata": {},
   "outputs": [
    {
     "data": {
      "text/html": [
       "<div>\n",
       "<style scoped>\n",
       "    .dataframe tbody tr th:only-of-type {\n",
       "        vertical-align: middle;\n",
       "    }\n",
       "\n",
       "    .dataframe tbody tr th {\n",
       "        vertical-align: top;\n",
       "    }\n",
       "\n",
       "    .dataframe thead th {\n",
       "        text-align: right;\n",
       "    }\n",
       "</style>\n",
       "<table border=\"1\" class=\"dataframe\">\n",
       "  <thead>\n",
       "    <tr style=\"text-align: right;\">\n",
       "      <th></th>\n",
       "      <th>vix_3_quantile</th>\n",
       "      <th>Strat_Ret</th>\n",
       "    </tr>\n",
       "  </thead>\n",
       "  <tbody>\n",
       "    <tr>\n",
       "      <th>0</th>\n",
       "      <td>(0.0093, 0.0245]</td>\n",
       "      <td>0.013863</td>\n",
       "    </tr>\n",
       "    <tr>\n",
       "      <th>1</th>\n",
       "      <td>(0.0245, 0.0385]</td>\n",
       "      <td>0.033852</td>\n",
       "    </tr>\n",
       "    <tr>\n",
       "      <th>2</th>\n",
       "      <td>(0.0385, 0.0579]</td>\n",
       "      <td>-0.013547</td>\n",
       "    </tr>\n",
       "    <tr>\n",
       "      <th>3</th>\n",
       "      <td>(0.0579, 0.488]</td>\n",
       "      <td>0.017660</td>\n",
       "    </tr>\n",
       "  </tbody>\n",
       "</table>\n",
       "</div>"
      ],
      "text/plain": [
       "     vix_3_quantile  Strat_Ret\n",
       "0  (0.0093, 0.0245]   0.013863\n",
       "1  (0.0245, 0.0385]   0.033852\n",
       "2  (0.0385, 0.0579]  -0.013547\n",
       "3   (0.0579, 0.488]   0.017660"
      ]
     },
     "execution_count": 166,
     "metadata": {},
     "output_type": "execute_result"
    },
    {
     "data": {
      "image/png": "[encoded data removed]",
      "text/plain": [
       "<Figure size 432x288 with 1 Axes>"
      ]
     },
     "metadata": {
      "needs_background": "light"
     },
     "output_type": "display_data"
    }
   ],
   "source": [
    "pnl_with_vix['vix_3_quantile'] = pd.qcut(pnl_with_vix['VIX_3^2'], q = 4)\n",
    "grouped = pd.DataFrame(pnl_with_vix.groupby('vix_3_quantile').mean().iloc[:,2].transpose())\n",
    "grouped = grouped.reset_index()\n",
    "\n",
    "plt.bar([str(i) for i in grouped['vix_3_quantile']],grouped['Strat_Ret'], label = 'Strat Ret')\n",
    "plt.legend()\n",
    "grouped"
   ]
  },
  {
   "cell_type": "code",
   "execution_count": 167,
   "metadata": {},
   "outputs": [
    {
     "data": {
      "text/html": [
       "<div>\n",
       "<style scoped>\n",
       "    .dataframe tbody tr th:only-of-type {\n",
       "        vertical-align: middle;\n",
       "    }\n",
       "\n",
       "    .dataframe tbody tr th {\n",
       "        vertical-align: top;\n",
       "    }\n",
       "\n",
       "    .dataframe thead th {\n",
       "        text-align: right;\n",
       "    }\n",
       "</style>\n",
       "<table border=\"1\" class=\"dataframe\">\n",
       "  <thead>\n",
       "    <tr style=\"text-align: right;\">\n",
       "      <th></th>\n",
       "      <th>vix_6_quantile</th>\n",
       "      <th>Strat_Ret</th>\n",
       "    </tr>\n",
       "  </thead>\n",
       "  <tbody>\n",
       "    <tr>\n",
       "      <th>0</th>\n",
       "      <td>(0.0132, 0.0283]</td>\n",
       "      <td>0.014401</td>\n",
       "    </tr>\n",
       "    <tr>\n",
       "      <th>1</th>\n",
       "      <td>(0.0283, 0.0418]</td>\n",
       "      <td>0.024177</td>\n",
       "    </tr>\n",
       "    <tr>\n",
       "      <th>2</th>\n",
       "      <td>(0.0418, 0.0597]</td>\n",
       "      <td>-0.003876</td>\n",
       "    </tr>\n",
       "    <tr>\n",
       "      <th>3</th>\n",
       "      <td>(0.0597, 0.388]</td>\n",
       "      <td>0.017113</td>\n",
       "    </tr>\n",
       "  </tbody>\n",
       "</table>\n",
       "</div>"
      ],
      "text/plain": [
       "     vix_6_quantile  Strat_Ret\n",
       "0  (0.0132, 0.0283]   0.014401\n",
       "1  (0.0283, 0.0418]   0.024177\n",
       "2  (0.0418, 0.0597]  -0.003876\n",
       "3   (0.0597, 0.388]   0.017113"
      ]
     },
     "execution_count": 167,
     "metadata": {},
     "output_type": "execute_result"
    },
    {
     "data": {
      "image/png": "[encoded data removed]",
      "text/plain": [
       "<Figure size 432x288 with 1 Axes>"
      ]
     },
     "metadata": {
      "needs_background": "light"
     },
     "output_type": "display_data"
    }
   ],
   "source": [
    "pnl_with_vix['vix_6_quantile'] = pd.qcut(pnl_with_vix['VIX_6^2'], q = 4)\n",
    "grouped = pd.DataFrame(pnl_with_vix.groupby('vix_6_quantile').mean().iloc[:,2].transpose())\n",
    "grouped = grouped.reset_index()\n",
    "\n",
    "plt.bar([str(i) for i in grouped['vix_6_quantile']],grouped['Strat_Ret'], label = 'Strat Ret')\n",
    "plt.legend()\n",
    "grouped"
   ]
  },
  {
   "cell_type": "code",
   "execution_count": 168,
   "metadata": {},
   "outputs": [
    {
     "data": {
      "text/html": [
       "<div>\n",
       "<style scoped>\n",
       "    .dataframe tbody tr th:only-of-type {\n",
       "        vertical-align: middle;\n",
       "    }\n",
       "\n",
       "    .dataframe tbody tr th {\n",
       "        vertical-align: top;\n",
       "    }\n",
       "\n",
       "    .dataframe thead th {\n",
       "        text-align: right;\n",
       "    }\n",
       "</style>\n",
       "<table border=\"1\" class=\"dataframe\">\n",
       "  <thead>\n",
       "    <tr style=\"text-align: right;\">\n",
       "      <th></th>\n",
       "      <th>vix_9_quantile</th>\n",
       "      <th>Strat_Ret</th>\n",
       "    </tr>\n",
       "  </thead>\n",
       "  <tbody>\n",
       "    <tr>\n",
       "      <th>0</th>\n",
       "      <td>(0.0142, 0.0307]</td>\n",
       "      <td>0.016592</td>\n",
       "    </tr>\n",
       "    <tr>\n",
       "      <th>1</th>\n",
       "      <td>(0.0307, 0.0431]</td>\n",
       "      <td>0.038027</td>\n",
       "    </tr>\n",
       "    <tr>\n",
       "      <th>2</th>\n",
       "      <td>(0.0431, 0.0597]</td>\n",
       "      <td>-0.022314</td>\n",
       "    </tr>\n",
       "    <tr>\n",
       "      <th>3</th>\n",
       "      <td>(0.0597, 0.332]</td>\n",
       "      <td>0.019496</td>\n",
       "    </tr>\n",
       "  </tbody>\n",
       "</table>\n",
       "</div>"
      ],
      "text/plain": [
       "     vix_9_quantile  Strat_Ret\n",
       "0  (0.0142, 0.0307]   0.016592\n",
       "1  (0.0307, 0.0431]   0.038027\n",
       "2  (0.0431, 0.0597]  -0.022314\n",
       "3   (0.0597, 0.332]   0.019496"
      ]
     },
     "execution_count": 168,
     "metadata": {},
     "output_type": "execute_result"
    },
    {
     "data": {
      "image/png": "[encoded data removed]",
      "text/plain": [
       "<Figure size 432x288 with 1 Axes>"
      ]
     },
     "metadata": {
      "needs_background": "light"
     },
     "output_type": "display_data"
    }
   ],
   "source": [
    "pnl_with_vix['vix_9_quantile'] = pd.qcut(pnl_with_vix['VIX_9^2'], q = 4)\n",
    "grouped = pd.DataFrame(pnl_with_vix.groupby('vix_9_quantile').mean().iloc[:,2].transpose())\n",
    "grouped = grouped.reset_index()\n",
    "\n",
    "plt.bar([str(i) for i in grouped['vix_9_quantile']],grouped['Strat_Ret'], label = 'Strat Ret')\n",
    "plt.legend()\n",
    "grouped"
   ]
  },
  {
   "cell_type": "code",
   "execution_count": 169,
   "metadata": {},
   "outputs": [
    {
     "data": {
      "text/html": [
       "<div>\n",
       "<style scoped>\n",
       "    .dataframe tbody tr th:only-of-type {\n",
       "        vertical-align: middle;\n",
       "    }\n",
       "\n",
       "    .dataframe tbody tr th {\n",
       "        vertical-align: top;\n",
       "    }\n",
       "\n",
       "    .dataframe thead th {\n",
       "        text-align: right;\n",
       "    }\n",
       "</style>\n",
       "<table border=\"1\" class=\"dataframe\">\n",
       "  <thead>\n",
       "    <tr style=\"text-align: right;\">\n",
       "      <th></th>\n",
       "      <th>vix_12_quantile</th>\n",
       "      <th>Strat_Ret</th>\n",
       "    </tr>\n",
       "  </thead>\n",
       "  <tbody>\n",
       "    <tr>\n",
       "      <th>0</th>\n",
       "      <td>(0.0142, 0.0322]</td>\n",
       "      <td>0.026977</td>\n",
       "    </tr>\n",
       "    <tr>\n",
       "      <th>1</th>\n",
       "      <td>(0.0322, 0.0437]</td>\n",
       "      <td>0.013726</td>\n",
       "    </tr>\n",
       "    <tr>\n",
       "      <th>2</th>\n",
       "      <td>(0.0437, 0.061]</td>\n",
       "      <td>0.000958</td>\n",
       "    </tr>\n",
       "    <tr>\n",
       "      <th>3</th>\n",
       "      <td>(0.061, 0.29]</td>\n",
       "      <td>0.010122</td>\n",
       "    </tr>\n",
       "  </tbody>\n",
       "</table>\n",
       "</div>"
      ],
      "text/plain": [
       "    vix_12_quantile  Strat_Ret\n",
       "0  (0.0142, 0.0322]   0.026977\n",
       "1  (0.0322, 0.0437]   0.013726\n",
       "2   (0.0437, 0.061]   0.000958\n",
       "3     (0.061, 0.29]   0.010122"
      ]
     },
     "execution_count": 169,
     "metadata": {},
     "output_type": "execute_result"
    },
    {
     "data": {
      "image/png": "[encoded data removed]",
      "text/plain": [
       "<Figure size 432x288 with 1 Axes>"
      ]
     },
     "metadata": {
      "needs_background": "light"
     },
     "output_type": "display_data"
    }
   ],
   "source": [
    "pnl_with_vix['vix_12_quantile'] = pd.qcut(pnl_with_vix['VIX_12^2'], q = 4)\n",
    "grouped = pd.DataFrame(pnl_with_vix.groupby('vix_12_quantile').mean().iloc[:,2].transpose())\n",
    "grouped = grouped.reset_index()\n",
    "\n",
    "plt.bar([str(i) for i in grouped['vix_12_quantile']],grouped['Strat_Ret'], label = 'Strat Ret')\n",
    "plt.legend()\n",
    "grouped"
   ]
  },
  {
   "cell_type": "code",
   "execution_count": 1,
   "metadata": {
    "scrolled": true
   },
   "outputs": [
    {
     "ename": "NameError",
     "evalue": "name 'plt' is not defined",
     "output_type": "error",
     "traceback": [
      "\u001b[1;31m---------------------------------------------------------------------------\u001b[0m",
      "\u001b[1;31mNameError\u001b[0m                                 Traceback (most recent call last)",
      "\u001b[1;32m<ipython-input-1-0c770f062be3>\u001b[0m in \u001b[0;36m<module>\u001b[1;34m\u001b[0m\n\u001b[0;32m      1\u001b[0m pairs = [[0.0204, 0.0342], [0.0227, 0.0335], [0.0245, 0.0385], [0.0283, 0.0418], \n\u001b[0;32m      2\u001b[0m [0.0307, 0.0431], [0.0142, 0.0322]] \n\u001b[1;32m----> 3\u001b[1;33m \u001b[0mplt\u001b[0m\u001b[1;33m.\u001b[0m\u001b[0mplot\u001b[0m\u001b[1;33m(\u001b[0m\u001b[1;33m[\u001b[0m\u001b[0mpair\u001b[0m\u001b[1;33m[\u001b[0m\u001b[1;36m0\u001b[0m\u001b[1;33m]\u001b[0m \u001b[1;32mfor\u001b[0m \u001b[0mpair\u001b[0m \u001b[1;32min\u001b[0m \u001b[0mpairs\u001b[0m\u001b[1;33m]\u001b[0m\u001b[1;33m)\u001b[0m\u001b[1;33m\u001b[0m\u001b[1;33m\u001b[0m\u001b[0m\n\u001b[0m\u001b[0;32m      4\u001b[0m \u001b[0mplt\u001b[0m\u001b[1;33m.\u001b[0m\u001b[0mplot\u001b[0m\u001b[1;33m(\u001b[0m\u001b[1;33m[\u001b[0m\u001b[0mpair\u001b[0m\u001b[1;33m[\u001b[0m\u001b[1;36m1\u001b[0m\u001b[1;33m]\u001b[0m \u001b[1;32mfor\u001b[0m \u001b[0mpair\u001b[0m \u001b[1;32min\u001b[0m \u001b[0mpairs\u001b[0m\u001b[1;33m]\u001b[0m\u001b[1;33m)\u001b[0m\u001b[1;33m\u001b[0m\u001b[1;33m\u001b[0m\u001b[0m\n",
      "\u001b[1;31mNameError\u001b[0m: name 'plt' is not defined"
     ]
    }
   ],
   "source": [
    "pairs = [[0.0204, 0.0342], [0.0227, 0.0335], [0.0245, 0.0385], [0.0283, 0.0418], \n",
    "[0.0307, 0.0431], [0.0142, 0.0322]] \n",
    "plt.plot([pair[0] for pair in pairs])\n",
    "plt.plot([pair[1] for pair in pairs]) "
   ]
  },
  {
   "cell_type": "code",
   "execution_count": 164,
   "metadata": {},
   "outputs": [
    {
     "data": {
      "text/html": [
       "<div>\n",
       "<style scoped>\n",
       "    .dataframe tbody tr th:only-of-type {\n",
       "        vertical-align: middle;\n",
       "    }\n",
       "\n",
       "    .dataframe tbody tr th {\n",
       "        vertical-align: top;\n",
       "    }\n",
       "\n",
       "    .dataframe thead th {\n",
       "        text-align: right;\n",
       "    }\n",
       "</style>\n",
       "<table border=\"1\" class=\"dataframe\">\n",
       "  <thead>\n",
       "    <tr style=\"text-align: right;\">\n",
       "      <th></th>\n",
       "      <th>Date</th>\n",
       "      <th>20_100_2_SPY</th>\n",
       "      <th>Long_SPY</th>\n",
       "      <th>Strat_Ret</th>\n",
       "      <th>VIX_1^2</th>\n",
       "      <th>VIX_2^2</th>\n",
       "      <th>VIX_3^2</th>\n",
       "      <th>VIX_6^2</th>\n",
       "      <th>VIX_9^2</th>\n",
       "      <th>VIX_12^2</th>\n",
       "      <th>pnl_quantile</th>\n",
       "      <th>vix_1_quantile</th>\n",
       "    </tr>\n",
       "  </thead>\n",
       "  <tbody>\n",
       "    <tr>\n",
       "      <th>0</th>\n",
       "      <td>1996-01-04</td>\n",
       "      <td>115.366652</td>\n",
       "      <td>144.318984</td>\n",
       "      <td>0.423105</td>\n",
       "      <td>0.01771</td>\n",
       "      <td>0.01681</td>\n",
       "      <td>0.01668</td>\n",
       "      <td>0.01785</td>\n",
       "      <td>0.01891</td>\n",
       "      <td>0.02027</td>\n",
       "      <td>(0.0, 7.711]</td>\n",
       "      <td>(0.00664, 0.0204]</td>\n",
       "    </tr>\n",
       "    <tr>\n",
       "      <th>1</th>\n",
       "      <td>1996-01-05</td>\n",
       "      <td>114.887132</td>\n",
       "      <td>143.719125</td>\n",
       "      <td>-0.479519</td>\n",
       "      <td>0.01708</td>\n",
       "      <td>0.01674</td>\n",
       "      <td>0.01661</td>\n",
       "      <td>0.01828</td>\n",
       "      <td>0.02034</td>\n",
       "      <td>0.01993</td>\n",
       "      <td>(-11.429, 0.0]</td>\n",
       "      <td>(0.00664, 0.0204]</td>\n",
       "    </tr>\n",
       "    <tr>\n",
       "      <th>2</th>\n",
       "      <td>1996-01-08</td>\n",
       "      <td>115.817964</td>\n",
       "      <td>144.883557</td>\n",
       "      <td>0.930831</td>\n",
       "      <td>0.01610</td>\n",
       "      <td>0.01589</td>\n",
       "      <td>0.01582</td>\n",
       "      <td>0.01739</td>\n",
       "      <td>0.01863</td>\n",
       "      <td>0.01955</td>\n",
       "      <td>(0.0, 7.711]</td>\n",
       "      <td>(0.00664, 0.0204]</td>\n",
       "    </tr>\n",
       "    <tr>\n",
       "      <th>3</th>\n",
       "      <td>1996-01-09</td>\n",
       "      <td>116.918037</td>\n",
       "      <td>146.259704</td>\n",
       "      <td>1.100073</td>\n",
       "      <td>0.02406</td>\n",
       "      <td>0.01904</td>\n",
       "      <td>0.01675</td>\n",
       "      <td>0.01858</td>\n",
       "      <td>0.01955</td>\n",
       "      <td>0.02088</td>\n",
       "      <td>(0.0, 7.711]</td>\n",
       "      <td>(0.0204, 0.0342]</td>\n",
       "    </tr>\n",
       "    <tr>\n",
       "      <th>4</th>\n",
       "      <td>1996-01-10</td>\n",
       "      <td>117.595005</td>\n",
       "      <td>147.106563</td>\n",
       "      <td>0.676968</td>\n",
       "      <td>0.02494</td>\n",
       "      <td>0.02151</td>\n",
       "      <td>0.02006</td>\n",
       "      <td>0.01978</td>\n",
       "      <td>0.02079</td>\n",
       "      <td>0.02184</td>\n",
       "      <td>(0.0, 7.711]</td>\n",
       "      <td>(0.0204, 0.0342]</td>\n",
       "    </tr>\n",
       "    <tr>\n",
       "      <th>...</th>\n",
       "      <td>...</td>\n",
       "      <td>...</td>\n",
       "      <td>...</td>\n",
       "      <td>...</td>\n",
       "      <td>...</td>\n",
       "      <td>...</td>\n",
       "      <td>...</td>\n",
       "      <td>...</td>\n",
       "      <td>...</td>\n",
       "      <td>...</td>\n",
       "      <td>...</td>\n",
       "      <td>...</td>\n",
       "    </tr>\n",
       "    <tr>\n",
       "      <th>5907</th>\n",
       "      <td>2019-06-24</td>\n",
       "      <td>190.597215</td>\n",
       "      <td>677.555396</td>\n",
       "      <td>1.353108</td>\n",
       "      <td>0.02402</td>\n",
       "      <td>0.02642</td>\n",
       "      <td>0.02783</td>\n",
       "      <td>0.03070</td>\n",
       "      <td>0.03137</td>\n",
       "      <td>0.03290</td>\n",
       "      <td>(0.0, 7.711]</td>\n",
       "      <td>(0.0204, 0.0342]</td>\n",
       "    </tr>\n",
       "    <tr>\n",
       "      <th>5908</th>\n",
       "      <td>2019-06-25</td>\n",
       "      <td>191.492935</td>\n",
       "      <td>680.739596</td>\n",
       "      <td>0.895720</td>\n",
       "      <td>0.02718</td>\n",
       "      <td>0.02870</td>\n",
       "      <td>0.02980</td>\n",
       "      <td>0.03222</td>\n",
       "      <td>0.03277</td>\n",
       "      <td>0.03402</td>\n",
       "      <td>(0.0, 7.711]</td>\n",
       "      <td>(0.0204, 0.0342]</td>\n",
       "    </tr>\n",
       "    <tr>\n",
       "      <th>5909</th>\n",
       "      <td>2019-06-26</td>\n",
       "      <td>190.578158</td>\n",
       "      <td>677.487650</td>\n",
       "      <td>-0.914777</td>\n",
       "      <td>0.02705</td>\n",
       "      <td>0.02812</td>\n",
       "      <td>0.02945</td>\n",
       "      <td>0.03219</td>\n",
       "      <td>0.03296</td>\n",
       "      <td>0.03384</td>\n",
       "      <td>(-11.429, 0.0]</td>\n",
       "      <td>(0.0204, 0.0342]</td>\n",
       "    </tr>\n",
       "    <tr>\n",
       "      <th>5910</th>\n",
       "      <td>2019-06-27</td>\n",
       "      <td>191.855038</td>\n",
       "      <td>682.026839</td>\n",
       "      <td>1.276880</td>\n",
       "      <td>0.02626</td>\n",
       "      <td>0.02715</td>\n",
       "      <td>0.02836</td>\n",
       "      <td>0.03063</td>\n",
       "      <td>0.03191</td>\n",
       "      <td>0.03293</td>\n",
       "      <td>(0.0, 7.711]</td>\n",
       "      <td>(0.0204, 0.0342]</td>\n",
       "    </tr>\n",
       "    <tr>\n",
       "      <th>5911</th>\n",
       "      <td>2019-06-28</td>\n",
       "      <td>191.505633</td>\n",
       "      <td>680.784737</td>\n",
       "      <td>-0.349405</td>\n",
       "      <td>0.02525</td>\n",
       "      <td>0.02688</td>\n",
       "      <td>0.02791</td>\n",
       "      <td>0.03151</td>\n",
       "      <td>0.03227</td>\n",
       "      <td>0.03603</td>\n",
       "      <td>(-11.429, 0.0]</td>\n",
       "      <td>(0.0204, 0.0342]</td>\n",
       "    </tr>\n",
       "  </tbody>\n",
       "</table>\n",
       "<p>5912 rows × 12 columns</p>\n",
       "</div>"
      ],
      "text/plain": [
       "           Date  20_100_2_SPY    Long_SPY  Strat_Ret  VIX_1^2  VIX_2^2  \\\n",
       "0    1996-01-04    115.366652  144.318984   0.423105  0.01771  0.01681   \n",
       "1    1996-01-05    114.887132  143.719125  -0.479519  0.01708  0.01674   \n",
       "2    1996-01-08    115.817964  144.883557   0.930831  0.01610  0.01589   \n",
       "3    1996-01-09    116.918037  146.259704   1.100073  0.02406  0.01904   \n",
       "4    1996-01-10    117.595005  147.106563   0.676968  0.02494  0.02151   \n",
       "...         ...           ...         ...        ...      ...      ...   \n",
       "5907 2019-06-24    190.597215  677.555396   1.353108  0.02402  0.02642   \n",
       "5908 2019-06-25    191.492935  680.739596   0.895720  0.02718  0.02870   \n",
       "5909 2019-06-26    190.578158  677.487650  -0.914777  0.02705  0.02812   \n",
       "5910 2019-06-27    191.855038  682.026839   1.276880  0.02626  0.02715   \n",
       "5911 2019-06-28    191.505633  680.784737  -0.349405  0.02525  0.02688   \n",
       "\n",
       "      VIX_3^2  VIX_6^2  VIX_9^2  VIX_12^2    pnl_quantile     vix_1_quantile  \n",
       "0     0.01668  0.01785  0.01891   0.02027    (0.0, 7.711]  (0.00664, 0.0204]  \n",
       "1     0.01661  0.01828  0.02034   0.01993  (-11.429, 0.0]  (0.00664, 0.0204]  \n",
       "2     0.01582  0.01739  0.01863   0.01955    (0.0, 7.711]  (0.00664, 0.0204]  \n",
       "3     0.01675  0.01858  0.01955   0.02088    (0.0, 7.711]   (0.0204, 0.0342]  \n",
       "4     0.02006  0.01978  0.02079   0.02184    (0.0, 7.711]   (0.0204, 0.0342]  \n",
       "...       ...      ...      ...       ...             ...                ...  \n",
       "5907  0.02783  0.03070  0.03137   0.03290    (0.0, 7.711]   (0.0204, 0.0342]  \n",
       "5908  0.02980  0.03222  0.03277   0.03402    (0.0, 7.711]   (0.0204, 0.0342]  \n",
       "5909  0.02945  0.03219  0.03296   0.03384  (-11.429, 0.0]   (0.0204, 0.0342]  \n",
       "5910  0.02836  0.03063  0.03191   0.03293    (0.0, 7.711]   (0.0204, 0.0342]  \n",
       "5911  0.02791  0.03151  0.03227   0.03603  (-11.429, 0.0]   (0.0204, 0.0342]  \n",
       "\n",
       "[5912 rows x 12 columns]"
      ]
     },
     "execution_count": 164,
     "metadata": {},
     "output_type": "execute_result"
    }
   ],
   "source": [
    "pnl_with_vix"
   ]
  },
  {
   "cell_type": "code",
   "execution_count": 20,
   "metadata": {},
   "outputs": [
    {
     "ename": "NameError",
     "evalue": "name 'lt' is not defined",
     "output_type": "error",
     "traceback": [
      "\u001b[1;31m---------------------------------------------------------------------------\u001b[0m",
      "\u001b[1;31mNameError\u001b[0m                                 Traceback (most recent call last)",
      "\u001b[1;32m<ipython-input-20-b3c35a728ae0>\u001b[0m in \u001b[0;36m<module>\u001b[1;34m\u001b[0m\n\u001b[0;32m      1\u001b[0m \u001b[0mplt\u001b[0m\u001b[1;33m.\u001b[0m\u001b[0mplot\u001b[0m\u001b[1;33m(\u001b[0m\u001b[0mpnls\u001b[0m\u001b[1;33m[\u001b[0m\u001b[1;34m'5_50_2_AMZN'\u001b[0m\u001b[1;33m]\u001b[0m\u001b[1;33m,\u001b[0m \u001b[0mlabel\u001b[0m \u001b[1;33m=\u001b[0m \u001b[1;34m'Strat'\u001b[0m\u001b[1;33m)\u001b[0m\u001b[1;33m\u001b[0m\u001b[1;33m\u001b[0m\u001b[0m\n\u001b[1;32m----> 2\u001b[1;33m \u001b[0mlt\u001b[0m\u001b[1;33m.\u001b[0m\u001b[0mplot\u001b[0m\u001b[1;33m(\u001b[0m\u001b[0mpnls\u001b[0m\u001b[1;33m[\u001b[0m\u001b[1;34m'Long_AMZN'\u001b[0m\u001b[1;33m]\u001b[0m\u001b[1;33m,\u001b[0m \u001b[0mlabel\u001b[0m \u001b[1;33m=\u001b[0m \u001b[1;34m'Long AMZN'\u001b[0m\u001b[1;33m)\u001b[0m\u001b[1;33m\u001b[0m\u001b[1;33m\u001b[0m\u001b[0m\n\u001b[0m\u001b[0;32m      3\u001b[0m \u001b[0mplt\u001b[0m\u001b[1;33m.\u001b[0m\u001b[0mlegend\u001b[0m\u001b[1;33m(\u001b[0m\u001b[1;33m)\u001b[0m\u001b[1;33m\u001b[0m\u001b[1;33m\u001b[0m\u001b[0m\n",
      "\u001b[1;31mNameError\u001b[0m: name 'lt' is not defined"
     ]
    },
    {
     "data": {
      "image/png": "[encoded data removed]",
      "text/plain": [
       "<Figure size 432x288 with 1 Axes>"
      ]
     },
     "metadata": {
      "needs_background": "light"
     },
     "output_type": "display_data"
    }
   ],
   "source": [
    "plt.plot(pnls['5_50_2_AMZN'], label = 'Strat')\n",
    "plt.plot(pnls['Long_AMZN'], label = 'Long AMZN')\n",
    "plt.legend()"
   ]
  },
  {
   "cell_type": "code",
   "execution_count": 89,
   "metadata": {},
   "outputs": [
    {
     "name": "stdout",
     "output_type": "stream",
     "text": [
      "[*********************100%***********************]  1 of 1 completed\n"
     ]
    },
    {
     "data": {
      "text/html": [
       "<div>\n",
       "<style scoped>\n",
       "    .dataframe tbody tr th:only-of-type {\n",
       "        vertical-align: middle;\n",
       "    }\n",
       "\n",
       "    .dataframe tbody tr th {\n",
       "        vertical-align: top;\n",
       "    }\n",
       "\n",
       "    .dataframe thead th {\n",
       "        text-align: right;\n",
       "    }\n",
       "</style>\n",
       "<table border=\"1\" class=\"dataframe\">\n",
       "  <thead>\n",
       "    <tr style=\"text-align: right;\">\n",
       "      <th></th>\n",
       "      <th>Open</th>\n",
       "      <th>High</th>\n",
       "      <th>Low</th>\n",
       "      <th>Close</th>\n",
       "      <th>Adj Close</th>\n",
       "      <th>Volume</th>\n",
       "    </tr>\n",
       "    <tr>\n",
       "      <th>Date</th>\n",
       "      <th></th>\n",
       "      <th></th>\n",
       "      <th></th>\n",
       "      <th></th>\n",
       "      <th></th>\n",
       "      <th></th>\n",
       "    </tr>\n",
       "  </thead>\n",
       "  <tbody>\n",
       "    <tr>\n",
       "      <th>1999-03-10</th>\n",
       "      <td>51.125000</td>\n",
       "      <td>51.156250</td>\n",
       "      <td>50.281250</td>\n",
       "      <td>51.062500</td>\n",
       "      <td>44.335434</td>\n",
       "      <td>5232000</td>\n",
       "    </tr>\n",
       "    <tr>\n",
       "      <th>1999-03-11</th>\n",
       "      <td>51.437500</td>\n",
       "      <td>51.734375</td>\n",
       "      <td>50.312500</td>\n",
       "      <td>51.312500</td>\n",
       "      <td>44.552479</td>\n",
       "      <td>9688600</td>\n",
       "    </tr>\n",
       "    <tr>\n",
       "      <th>1999-03-12</th>\n",
       "      <td>51.125000</td>\n",
       "      <td>51.156250</td>\n",
       "      <td>49.656250</td>\n",
       "      <td>50.062500</td>\n",
       "      <td>43.467171</td>\n",
       "      <td>8743600</td>\n",
       "    </tr>\n",
       "    <tr>\n",
       "      <th>1999-03-15</th>\n",
       "      <td>50.437500</td>\n",
       "      <td>51.562500</td>\n",
       "      <td>49.906250</td>\n",
       "      <td>51.500000</td>\n",
       "      <td>44.715282</td>\n",
       "      <td>6369000</td>\n",
       "    </tr>\n",
       "    <tr>\n",
       "      <th>1999-03-16</th>\n",
       "      <td>51.718750</td>\n",
       "      <td>52.156250</td>\n",
       "      <td>51.156250</td>\n",
       "      <td>51.937500</td>\n",
       "      <td>45.095146</td>\n",
       "      <td>4905800</td>\n",
       "    </tr>\n",
       "    <tr>\n",
       "      <th>...</th>\n",
       "      <td>...</td>\n",
       "      <td>...</td>\n",
       "      <td>...</td>\n",
       "      <td>...</td>\n",
       "      <td>...</td>\n",
       "      <td>...</td>\n",
       "    </tr>\n",
       "    <tr>\n",
       "      <th>2021-06-30</th>\n",
       "      <td>354.829987</td>\n",
       "      <td>355.230011</td>\n",
       "      <td>353.829987</td>\n",
       "      <td>354.429993</td>\n",
       "      <td>354.429993</td>\n",
       "      <td>32724000</td>\n",
       "    </tr>\n",
       "    <tr>\n",
       "      <th>2021-07-01</th>\n",
       "      <td>354.070007</td>\n",
       "      <td>355.089996</td>\n",
       "      <td>352.679993</td>\n",
       "      <td>354.570007</td>\n",
       "      <td>354.570007</td>\n",
       "      <td>29290000</td>\n",
       "    </tr>\n",
       "    <tr>\n",
       "      <th>2021-07-02</th>\n",
       "      <td>356.519989</td>\n",
       "      <td>358.970001</td>\n",
       "      <td>356.279999</td>\n",
       "      <td>358.640015</td>\n",
       "      <td>358.640015</td>\n",
       "      <td>32715600</td>\n",
       "    </tr>\n",
       "    <tr>\n",
       "      <th>2021-07-06</th>\n",
       "      <td>359.260010</td>\n",
       "      <td>360.480011</td>\n",
       "      <td>356.489990</td>\n",
       "      <td>360.190002</td>\n",
       "      <td>360.190002</td>\n",
       "      <td>38741400</td>\n",
       "    </tr>\n",
       "    <tr>\n",
       "      <th>2021-07-07</th>\n",
       "      <td>362.450012</td>\n",
       "      <td>362.760010</td>\n",
       "      <td>358.945007</td>\n",
       "      <td>360.950012</td>\n",
       "      <td>360.950012</td>\n",
       "      <td>35265242</td>\n",
       "    </tr>\n",
       "  </tbody>\n",
       "</table>\n",
       "<p>5619 rows × 6 columns</p>\n",
       "</div>"
      ],
      "text/plain": [
       "                  Open        High         Low       Close   Adj Close  \\\n",
       "Date                                                                     \n",
       "1999-03-10   51.125000   51.156250   50.281250   51.062500   44.335434   \n",
       "1999-03-11   51.437500   51.734375   50.312500   51.312500   44.552479   \n",
       "1999-03-12   51.125000   51.156250   49.656250   50.062500   43.467171   \n",
       "1999-03-15   50.437500   51.562500   49.906250   51.500000   44.715282   \n",
       "1999-03-16   51.718750   52.156250   51.156250   51.937500   45.095146   \n",
       "...                ...         ...         ...         ...         ...   \n",
       "2021-06-30  354.829987  355.230011  353.829987  354.429993  354.429993   \n",
       "2021-07-01  354.070007  355.089996  352.679993  354.570007  354.570007   \n",
       "2021-07-02  356.519989  358.970001  356.279999  358.640015  358.640015   \n",
       "2021-07-06  359.260010  360.480011  356.489990  360.190002  360.190002   \n",
       "2021-07-07  362.450012  362.760010  358.945007  360.950012  360.950012   \n",
       "\n",
       "              Volume  \n",
       "Date                  \n",
       "1999-03-10   5232000  \n",
       "1999-03-11   9688600  \n",
       "1999-03-12   8743600  \n",
       "1999-03-15   6369000  \n",
       "1999-03-16   4905800  \n",
       "...              ...  \n",
       "2021-06-30  32724000  \n",
       "2021-07-01  29290000  \n",
       "2021-07-02  32715600  \n",
       "2021-07-06  38741400  \n",
       "2021-07-07  35265242  \n",
       "\n",
       "[5619 rows x 6 columns]"
      ]
     },
     "execution_count": 89,
     "metadata": {},
     "output_type": "execute_result"
    }
   ],
   "source": [
    "yfinance.download('QQQ')"
   ]
  },
  {
   "cell_type": "code",
   "execution_count": 48,
   "metadata": {
    "scrolled": true
   },
   "outputs": [],
   "source": [
    "qqq_df = pd.DataFrame(pnls)\n",
    "qqq_df['Strat_Ret'] = qqq_df['5_50_5_QQQ'] - qqq_df['5_50_5_QQQ'].shift(1)"
   ]
  },
  {
   "cell_type": "code",
   "execution_count": 95,
   "metadata": {},
   "outputs": [],
   "source": [
    "def sharpe(ret, sd):\n",
    "    return (ret)/sd"
   ]
  },
  {
   "cell_type": "code",
   "execution_count": 82,
   "metadata": {},
   "outputs": [],
   "source": [
    "total_ret = (qqq_df.iloc[-1]['5_50_5_QQQ'] - qqq_df.iloc[0]['5_50_5_QQQ'])/qqq_df.iloc[0]['5_50_5_QQQ']\n",
    "qqq_df['pct_return'] = qqq_df.pct_change()['5_50_5_QQQ']"
   ]
  },
  {
   "cell_type": "code",
   "execution_count": 123,
   "metadata": {},
   "outputs": [
    {
     "data": {
      "text/plain": [
       "0.015066674901956319"
      ]
     },
     "execution_count": 123,
     "metadata": {},
     "output_type": "execute_result"
    }
   ],
   "source": [
    "np.mean(qqq_df['pct_return'])/np.std(qqq_df['pct_return'])"
   ]
  },
  {
   "cell_type": "code",
   "execution_count": 126,
   "metadata": {},
   "outputs": [
    {
     "data": {
      "text/plain": [
       "2.653920976388654"
      ]
     },
     "execution_count": 126,
     "metadata": {},
     "output_type": "execute_result"
    }
   ],
   "source": [
    "np.mean(qqq_df['5_50_5_QQQ'])/np.std(qqq_df['5_50_5_QQQ'])"
   ]
  },
  {
   "cell_type": "code",
   "execution_count": 127,
   "metadata": {},
   "outputs": [
    {
     "data": {
      "text/plain": [
       "1.2832410364373743"
      ]
     },
     "execution_count": 127,
     "metadata": {},
     "output_type": "execute_result"
    }
   ],
   "source": [
    "np.mean(qqq_df['Long_QQQ'])/np.std(qqq_df['Long_QQQ'])"
   ]
  },
  {
   "cell_type": "code",
   "execution_count": 128,
   "metadata": {},
   "outputs": [
    {
     "data": {
      "text/html": [
       "<div>\n",
       "<style scoped>\n",
       "    .dataframe tbody tr th:only-of-type {\n",
       "        vertical-align: middle;\n",
       "    }\n",
       "\n",
       "    .dataframe tbody tr th {\n",
       "        vertical-align: top;\n",
       "    }\n",
       "\n",
       "    .dataframe thead th {\n",
       "        text-align: right;\n",
       "    }\n",
       "</style>\n",
       "<table border=\"1\" class=\"dataframe\">\n",
       "  <thead>\n",
       "    <tr style=\"text-align: right;\">\n",
       "      <th></th>\n",
       "      <th>5_50_5_QQQ</th>\n",
       "      <th>Long_QQQ</th>\n",
       "      <th>Strat_Ret</th>\n",
       "      <th>pct_return</th>\n",
       "      <th>rf</th>\n",
       "      <th>excess_ret</th>\n",
       "    </tr>\n",
       "  </thead>\n",
       "  <tbody>\n",
       "    <tr>\n",
       "      <th>0</th>\n",
       "      <td>100000.000000</td>\n",
       "      <td>100000.000000</td>\n",
       "      <td>NaN</td>\n",
       "      <td>NaN</td>\n",
       "      <td>0.000198</td>\n",
       "      <td>NaN</td>\n",
       "    </tr>\n",
       "    <tr>\n",
       "      <th>1</th>\n",
       "      <td>101939.393939</td>\n",
       "      <td>101939.393939</td>\n",
       "      <td>1939.393939</td>\n",
       "      <td>0.019394</td>\n",
       "      <td>0.000198</td>\n",
       "      <td>0.019196</td>\n",
       "    </tr>\n",
       "    <tr>\n",
       "      <th>2</th>\n",
       "      <td>99333.333333</td>\n",
       "      <td>99333.333333</td>\n",
       "      <td>-2606.060606</td>\n",
       "      <td>-0.025565</td>\n",
       "      <td>0.000198</td>\n",
       "      <td>-0.025763</td>\n",
       "    </tr>\n",
       "    <tr>\n",
       "      <th>3</th>\n",
       "      <td>98121.212121</td>\n",
       "      <td>98121.212121</td>\n",
       "      <td>-1212.121212</td>\n",
       "      <td>-0.012203</td>\n",
       "      <td>0.000198</td>\n",
       "      <td>-0.012401</td>\n",
       "    </tr>\n",
       "    <tr>\n",
       "      <th>4</th>\n",
       "      <td>98121.212121</td>\n",
       "      <td>94666.666667</td>\n",
       "      <td>0.000000</td>\n",
       "      <td>0.000000</td>\n",
       "      <td>0.000198</td>\n",
       "      <td>-0.000198</td>\n",
       "    </tr>\n",
       "    <tr>\n",
       "      <th>...</th>\n",
       "      <td>...</td>\n",
       "      <td>...</td>\n",
       "      <td>...</td>\n",
       "      <td>...</td>\n",
       "      <td>...</td>\n",
       "      <td>...</td>\n",
       "    </tr>\n",
       "    <tr>\n",
       "      <th>5604</th>\n",
       "      <td>177801.904288</td>\n",
       "      <td>674404.829545</td>\n",
       "      <td>86.913458</td>\n",
       "      <td>0.000489</td>\n",
       "      <td>0.000198</td>\n",
       "      <td>0.000291</td>\n",
       "    </tr>\n",
       "    <tr>\n",
       "      <th>5605</th>\n",
       "      <td>178901.226902</td>\n",
       "      <td>678574.573864</td>\n",
       "      <td>1099.322614</td>\n",
       "      <td>0.006183</td>\n",
       "      <td>0.000198</td>\n",
       "      <td>0.005984</td>\n",
       "    </tr>\n",
       "    <tr>\n",
       "      <th>5606</th>\n",
       "      <td>178681.353017</td>\n",
       "      <td>677740.589489</td>\n",
       "      <td>-219.873885</td>\n",
       "      <td>-0.001229</td>\n",
       "      <td>0.000198</td>\n",
       "      <td>-0.001427</td>\n",
       "    </tr>\n",
       "    <tr>\n",
       "      <th>5607</th>\n",
       "      <td>180854.407927</td>\n",
       "      <td>685983.013731</td>\n",
       "      <td>2173.054910</td>\n",
       "      <td>0.012162</td>\n",
       "      <td>0.000198</td>\n",
       "      <td>0.011963</td>\n",
       "    </tr>\n",
       "    <tr>\n",
       "      <th>5608</th>\n",
       "      <td>181508.880311</td>\n",
       "      <td>688465.435606</td>\n",
       "      <td>654.472384</td>\n",
       "      <td>0.003619</td>\n",
       "      <td>0.000198</td>\n",
       "      <td>0.003420</td>\n",
       "    </tr>\n",
       "  </tbody>\n",
       "</table>\n",
       "<p>5609 rows × 6 columns</p>\n",
       "</div>"
      ],
      "text/plain": [
       "         5_50_5_QQQ       Long_QQQ    Strat_Ret  pct_return        rf  \\\n",
       "0     100000.000000  100000.000000          NaN         NaN  0.000198   \n",
       "1     101939.393939  101939.393939  1939.393939    0.019394  0.000198   \n",
       "2      99333.333333   99333.333333 -2606.060606   -0.025565  0.000198   \n",
       "3      98121.212121   98121.212121 -1212.121212   -0.012203  0.000198   \n",
       "4      98121.212121   94666.666667     0.000000    0.000000  0.000198   \n",
       "...             ...            ...          ...         ...       ...   \n",
       "5604  177801.904288  674404.829545    86.913458    0.000489  0.000198   \n",
       "5605  178901.226902  678574.573864  1099.322614    0.006183  0.000198   \n",
       "5606  178681.353017  677740.589489  -219.873885   -0.001229  0.000198   \n",
       "5607  180854.407927  685983.013731  2173.054910    0.012162  0.000198   \n",
       "5608  181508.880311  688465.435606   654.472384    0.003619  0.000198   \n",
       "\n",
       "      excess_ret  \n",
       "0            NaN  \n",
       "1       0.019196  \n",
       "2      -0.025763  \n",
       "3      -0.012401  \n",
       "4      -0.000198  \n",
       "...          ...  \n",
       "5604    0.000291  \n",
       "5605    0.005984  \n",
       "5606   -0.001427  \n",
       "5607    0.011963  \n",
       "5608    0.003420  \n",
       "\n",
       "[5609 rows x 6 columns]"
      ]
     },
     "execution_count": 128,
     "metadata": {},
     "output_type": "execute_result"
    }
   ],
   "source": [
    "qqq_df"
   ]
  },
  {
   "cell_type": "code",
   "execution_count": 201,
   "metadata": {},
   "outputs": [
    {
     "name": "stdout",
     "output_type": "stream",
     "text": [
      "Sharpe(2_2):0    3.907207\n",
      "dtype: float64\n",
      "Sharpe(2_3):0    3.740305\n",
      "dtype: float64\n",
      "Sharpe(2_4):0    6.70835\n",
      "dtype: float64\n",
      "Sharpe(3_2):0    5.006585\n",
      "dtype: float64\n",
      "Sharpe(3_3):0    4.443148\n",
      "dtype: float64\n",
      "Sharpe(3_4):0    3.819295\n",
      "dtype: float64\n",
      "Sharpe(4_4):0    7.36637\n",
      "dtype: float64\n",
      "Sharpe(Long Spy):0    1.90033\n",
      "dtype: float64\n"
     ]
    },
    {
     "data": {
      "text/plain": [
       "<matplotlib.legend.Legend at 0x23bda0cbd30>"
      ]
     },
     "execution_count": 201,
     "metadata": {},
     "output_type": "execute_result"
    },
    {
     "data": {
      "image/png": "[encoded data removed]",
      "text/plain": [
       "<Figure size 432x288 with 1 Axes>"
      ]
     },
     "metadata": {
      "needs_background": "light"
     },
     "output_type": "display_data"
    }
   ],
   "source": [
    "for key in pnls.keys():\n",
    "    plt.plot(pnls[key], label = key)\n",
    "    print(f'Sharpe({key}):{np.mean(pd.DataFrame(pnls[key])/np.std(pd.DataFrame(pnls[key])))}')\n",
    "plt.legend()"
   ]
  },
  {
   "cell_type": "code",
   "execution_count": 203,
   "metadata": {},
   "outputs": [
    {
     "data": {
      "text/plain": [
       "[<matplotlib.lines.Line2D at 0x23b47390ac0>]"
      ]
     },
     "execution_count": 203,
     "metadata": {},
     "output_type": "execute_result"
    },
    {
     "data": {
      "image/png": "[encoded data removed]",
      "text/plain": [
       "<Figure size 432x288 with 1 Axes>"
      ]
     },
     "metadata": {
      "needs_background": "light"
     },
     "output_type": "display_data"
    }
   ],
   "source": [
    "plt.plot(pnls['4_4'])"
   ]
  },
  {
   "cell_type": "code",
   "execution_count": 186,
   "metadata": {},
   "outputs": [
    {
     "data": {
      "text/plain": [
       "[<matplotlib.lines.Line2D at 0x237cf3fa220>]"
      ]
     },
     "execution_count": 186,
     "metadata": {},
     "output_type": "execute_result"
    },
    {
     "data": {
      "image/png": "[encoded data removed]",
      "text/plain": [
       "<Figure size 432x288 with 1 Axes>"
      ]
     },
     "metadata": {
      "needs_background": "light"
     },
     "output_type": "display_data"
    }
   ],
   "source": [
    "pnl = [100000]\n",
    "errors = []\n",
    "pnl_spy = [100000]\n",
    "\n",
    "for i in range(len(dta)-1):\n",
    "    pnl_spy.append(pnl_spy[-1] * (1+dta.iloc[i+1]['Pct_Change']))\n",
    "    if dta.iloc[i]['Close'] < dta.iloc[i]['E']:\n",
    "        pnl.append(pnl[-1]*(1+dta.iloc[i+1]['Pct_Change']))\n",
    "    else:\n",
    "        pnl.append(pnl[-1])\n",
    "        #pnl.append(pnl[i]*(1+(-1*dta.iloc[i]['Pct_Change'])))\n",
    "    errors.append(dta.iloc[i]['Actual'] - dta.iloc[i]['E'])\n",
    "plt.plot(pnl)\n",
    "plt.plot(pnl_spy)"
   ]
  },
  {
   "cell_type": "code",
   "execution_count": 185,
   "metadata": {},
   "outputs": [
    {
     "name": "stdout",
     "output_type": "stream",
     "text": [
      "2.9992918571698945 1.8981687459753682\n"
     ]
    }
   ],
   "source": [
    "print(np.mean(pnl)/np.std(pnl), np.mean(pnl_spy)/np.std(pnl_spy))"
   ]
  },
  {
   "cell_type": "code",
   "execution_count": 176,
   "metadata": {},
   "outputs": [
    {
     "data": {
      "text/html": [
       "<div>\n",
       "<style scoped>\n",
       "    .dataframe tbody tr th:only-of-type {\n",
       "        vertical-align: middle;\n",
       "    }\n",
       "\n",
       "    .dataframe tbody tr th {\n",
       "        vertical-align: top;\n",
       "    }\n",
       "\n",
       "    .dataframe thead th {\n",
       "        text-align: right;\n",
       "    }\n",
       "</style>\n",
       "<table border=\"1\" class=\"dataframe\">\n",
       "  <thead>\n",
       "    <tr style=\"text-align: right;\">\n",
       "      <th></th>\n",
       "      <th>PNL</th>\n",
       "      <th>PNL_Pct_Change</th>\n",
       "      <th>PNL_Change</th>\n",
       "    </tr>\n",
       "  </thead>\n",
       "  <tbody>\n",
       "    <tr>\n",
       "      <th>0</th>\n",
       "      <td>100.000000</td>\n",
       "      <td>NaN</td>\n",
       "      <td>NaN</td>\n",
       "    </tr>\n",
       "    <tr>\n",
       "      <th>1</th>\n",
       "      <td>100.205620</td>\n",
       "      <td>0.002056</td>\n",
       "      <td>0.205620</td>\n",
       "    </tr>\n",
       "    <tr>\n",
       "      <th>2</th>\n",
       "      <td>99.174698</td>\n",
       "      <td>-0.010288</td>\n",
       "      <td>-1.030922</td>\n",
       "    </tr>\n",
       "    <tr>\n",
       "      <th>3</th>\n",
       "      <td>99.655795</td>\n",
       "      <td>0.004851</td>\n",
       "      <td>0.481097</td>\n",
       "    </tr>\n",
       "    <tr>\n",
       "      <th>4</th>\n",
       "      <td>99.655795</td>\n",
       "      <td>0.000000</td>\n",
       "      <td>0.000000</td>\n",
       "    </tr>\n",
       "    <tr>\n",
       "      <th>...</th>\n",
       "      <td>...</td>\n",
       "      <td>...</td>\n",
       "      <td>...</td>\n",
       "    </tr>\n",
       "    <tr>\n",
       "      <th>4318</th>\n",
       "      <td>334.039206</td>\n",
       "      <td>0.003552</td>\n",
       "      <td>1.182326</td>\n",
       "    </tr>\n",
       "    <tr>\n",
       "      <th>4319</th>\n",
       "      <td>334.712606</td>\n",
       "      <td>0.002016</td>\n",
       "      <td>0.673400</td>\n",
       "    </tr>\n",
       "    <tr>\n",
       "      <th>4320</th>\n",
       "      <td>334.892706</td>\n",
       "      <td>0.000538</td>\n",
       "      <td>0.180101</td>\n",
       "    </tr>\n",
       "    <tr>\n",
       "      <th>4321</th>\n",
       "      <td>335.174578</td>\n",
       "      <td>0.000842</td>\n",
       "      <td>0.281872</td>\n",
       "    </tr>\n",
       "    <tr>\n",
       "      <th>4322</th>\n",
       "      <td>337.030304</td>\n",
       "      <td>0.005537</td>\n",
       "      <td>1.855726</td>\n",
       "    </tr>\n",
       "  </tbody>\n",
       "</table>\n",
       "<p>4323 rows × 3 columns</p>\n",
       "</div>"
      ],
      "text/plain": [
       "             PNL  PNL_Pct_Change  PNL_Change\n",
       "0     100.000000             NaN         NaN\n",
       "1     100.205620        0.002056    0.205620\n",
       "2      99.174698       -0.010288   -1.030922\n",
       "3      99.655795        0.004851    0.481097\n",
       "4      99.655795        0.000000    0.000000\n",
       "...          ...             ...         ...\n",
       "4318  334.039206        0.003552    1.182326\n",
       "4319  334.712606        0.002016    0.673400\n",
       "4320  334.892706        0.000538    0.180101\n",
       "4321  335.174578        0.000842    0.281872\n",
       "4322  337.030304        0.005537    1.855726\n",
       "\n",
       "[4323 rows x 3 columns]"
      ]
     },
     "execution_count": 176,
     "metadata": {},
     "output_type": "execute_result"
    }
   ],
   "source": [
    "df = pd.DataFrame()\n",
    "df['PNL']= pnl\n",
    "df['PNL_Pct_Change'] = df.pct_change()\n",
    "df['PNL_Change'] = df['PNL'] - df['PNL'].shift(1)\n",
    "df\n",
    "#plt.hist(df['PNL_Change'], bins = 1000)\n",
    "#plt.hist(df['PNL'], bins = 1000)\n",
    "df\n",
    "#np.mean(df['PNL'])/np.std(df['PNL'])"
   ]
  },
  {
   "cell_type": "code",
   "execution_count": 139,
   "metadata": {},
   "outputs": [
    {
     "data": {
      "text/plain": [
       "[<matplotlib.lines.Line2D at 0x23835fca4f0>]"
      ]
     },
     "execution_count": 139,
     "metadata": {},
     "output_type": "execute_result"
    },
    {
     "data": {
      "image/png": "[encoded data removed]",
      "text/plain": [
       "<Figure size 432x288 with 1 Axes>"
      ]
     },
     "metadata": {
      "needs_background": "light"
     },
     "output_type": "display_data"
    }
   ],
   "source": [
    "plt.plot(dta['Close'])\n"
   ]
  },
  {
   "cell_type": "code",
   "execution_count": 28,
   "metadata": {},
   "outputs": [],
   "source": [
    "#simulated sp500\n",
    "def pnl_walk(a, n, rates):\n",
    "    # defining the number of steps\n",
    "    \n",
    "    # n must = lenrates\n",
    "\n",
    "    #creating two array for containing x and y coordinate\n",
    "    #of size equals to the number of size and filled up with 0's\n",
    "    x = numpy.zeros(n)\n",
    "    x[0] = a\n",
    "\n",
    "    # filling the coordinates with random variables\n",
    "    for i in range(1, n):\n",
    "        rate = np.random.choice(rates)\n",
    "        x[i] = x[i-1]*(1+rate)\n",
    "    \n",
    "    \n",
    "    return x\n"
   ]
  },
  {
   "cell_type": "code",
   "execution_count": 45,
   "metadata": {},
   "outputs": [],
   "source": [
    "def simulate_rndm_pnl(n_sims, starting_val, steps, generated):\n",
    "    ends = []\n",
    "    sers = []\n",
    "    for i in range(n_sims):\n",
    "        ser = pnl_walk(starting_val, steps, generated)\n",
    "        sers.append(ser)\n",
    "        ends.append(ser[-1])\n",
    "        #plt.plot(ser)\n",
    "    \n",
    "    return sers, ends\n",
    "    #plt.ticklabel_format(style = 'plain')\n",
    "    #print(f'Mean Ending Value = {np.mean(ends)}, Sd = {np.std(ends)/n_sims}')"
   ]
  },
  {
   "cell_type": "code",
   "execution_count": 32,
   "metadata": {},
   "outputs": [],
   "source": [
    "import pandas as pd\n",
    "close_copy = close.copy()\n",
    "cur = close_copy.iloc[-1]['log_return']\n",
    "rolling_sd = close_copy.iloc[-1]['rolling_sd']\n",
    "rolling_mean = close_copy.iloc[-1]['rolling_mean']\n",
    "generated = np.random.normal(rolling_mean,rolling_sd,1000)\n",
    "paths = simulate_rndm_pnl(1000, cur, 25,generated)\n",
    "df = pd.DataFrame(paths).transpose()"
   ]
  },
  {
   "cell_type": "code",
   "execution_count": 33,
   "metadata": {
    "scrolled": true
   },
   "outputs": [
    {
     "data": {
      "image/png": "[encoded data removed]",
      "text/plain": [
       "<Figure size 432x288 with 1 Axes>"
      ]
     },
     "metadata": {
      "needs_background": "light"
     },
     "output_type": "display_data"
    }
   ],
   "source": [
    "for col in df:\n",
    "    plt.plot(df[col])"
   ]
  },
  {
   "cell_type": "code",
   "execution_count": null,
   "metadata": {},
   "outputs": [],
   "source": []
  },
  {
   "cell_type": "code",
   "execution_count": null,
   "metadata": {},
   "outputs": [],
   "source": [
    "data = "
   ]
  }
 ],
 "metadata": {
  "kernelspec": {
   "display_name": "Python 3",
   "language": "python",
   "name": "python3"
  },
  "language_info": {
   "codemirror_mode": {
    "name": "ipython",
    "version": 3
   },
   "file_extension": ".py",
   "mimetype": "text/x-python",
   "name": "python",
   "nbconvert_exporter": "python",
   "pygments_lexer": "ipython3",
   "version": "3.8.5"
  }
 },
 "nbformat": 4,
 "nbformat_minor": 4
}
